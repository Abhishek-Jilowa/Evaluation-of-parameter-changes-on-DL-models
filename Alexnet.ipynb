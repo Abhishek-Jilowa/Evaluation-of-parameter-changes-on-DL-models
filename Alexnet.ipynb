{
  "nbformat": 4,
  "nbformat_minor": 0,
  "metadata": {
    "colab": {
      "private_outputs": true,
      "provenance": []
    },
    "kernelspec": {
      "name": "python3",
      "display_name": "Python 3"
    },
    "language_info": {
      "name": "python"
    }
  },
  "cells": [
    {
      "cell_type": "code",
      "source": [
        "from keras.models import Sequential\n",
        "from keras.layers import Conv2D, MaxPooling2D, Dense, Flatten\n",
        "import keras\n",
        "from keras.layers import Dropout\n",
        "from keras.layers import Activation\n",
        "import tensorflow as tf\n",
        "from tensorflow.keras import layers, models\n",
        "from keras.models import Sequential\n",
        "from keras.layers import Conv2D, AveragePooling2D, Flatten, Dense\n",
        "from keras.layers import Conv2D, MaxPooling2D, Flatten, Dense\n",
        "from keras.layers import Activation, BatchNormalization"
      ],
      "metadata": {
        "id": "w7rksNGGqfFA"
      },
      "execution_count": null,
      "outputs": []
    },
    {
      "cell_type": "code",
      "execution_count": null,
      "metadata": {
        "id": "MPXn3-eFgR4B"
      },
      "outputs": [],
      "source": [
        "AlexNet = Sequential()\n",
        "AlexNet.add(Conv2D(filters=96,kernel_size=(3,3),strides=(4,4),input_shape=(32,32,3), activation='relu'))\n",
        "AlexNet.add(MaxPooling2D(pool_size=(2,2),strides=(2,2)))\n",
        "AlexNet.add(BatchNormalization())\n",
        "AlexNet.add(Conv2D(60,(5,5),padding='same',activation='relu'))\n",
        "AlexNet.add(MaxPooling2D(pool_size=(2,2),strides=(2,2)))\n",
        "AlexNet.add(BatchNormalization())\n",
        "AlexNet.add(Conv2D(60,(3,3),padding='same',activation='relu'))\n",
        "AlexNet.add(BatchNormalization())\n",
        "AlexNet.add(Conv2D(30,(3,3),padding='same',activation='relu'))\n",
        "AlexNet.add(BatchNormalization())\n",
        "AlexNet.add(Conv2D(20,(3,3),padding='same',activation='relu'))\n",
        "AlexNet.add(BatchNormalization())\n",
        "AlexNet.add(MaxPooling2D(pool_size=(2,2),strides=(2,2)))\n",
        "AlexNet.add(Flatten())\n",
        "#fully connected layer\n",
        "AlexNet.add(Dense(512, activation='relu'))\n",
        "AlexNet.add(Dropout(0.1))\n",
        "AlexNet.add(Dense(256, activation='relu'))\n",
        "AlexNet.add(Dropout(0.1))\n",
        "AlexNet.add(Dense(128, activation='relu'))\n",
        "AlexNet.add(Dropout(0.1))\n",
        "AlexNet.add(Dense(64, activation='relu'))\n",
        "AlexNet.add(Dropout(0.1))\n",
        "AlexNet.add(Dense(32, activation='relu'))\n",
        "AlexNet.add(Dropout(0.1))\n",
        "AlexNet.add(Dense(16, activation='relu'))\n",
        "AlexNet.add(Dropout(0.1))\n",
        "AlexNet.add(Dense(8, activation='relu'))\n",
        "AlexNet.add(Dropout(0.1))\n",
        "AlexNet.add(Dense(4, activation='relu'))\n",
        "AlexNet.add(Dropout(0.1))\n",
        "AlexNet.add(Dense(10, activation='softmax'))"
      ]
    },
    {
      "cell_type": "code",
      "source": [
        "#compie the model\n",
        "AlexNet.compile(optimizer='SGD', loss=keras.losses.sparse_categorical_crossentropy, metrics=['accuracy'])\n",
        "AlexNet.summary()"
      ],
      "metadata": {
        "id": "rpvRkYtjqlIm"
      },
      "execution_count": null,
      "outputs": []
    },
    {
      "cell_type": "code",
      "source": [
        "(x_train, y_train), (x_test, y_test)  = keras.datasets.cifar10.load_data()\n",
        "#load the dataset"
      ],
      "metadata": {
        "id": "risVqXY3qpxd"
      },
      "execution_count": null,
      "outputs": []
    },
    {
      "cell_type": "code",
      "source": [
        "# Reshape converting 2D to 1D\n",
        "y_test = y_test.reshape(-1,)\n",
        "y_train = y_train.reshape(-1,)\n",
        "y_test = y_test.reshape(-1,)\n",
        "y_train = y_train.reshape(-1,)\n",
        "x_train = x_train / 255.0\n",
        "x_test = x_test / 255.0"
      ],
      "metadata": {
        "id": "yEp2NOW0qwSZ"
      },
      "execution_count": null,
      "outputs": []
    },
    {
      "cell_type": "code",
      "source": [
        "#train the model\n",
        "history1 = AlexNet.fit(x_train, y_train, epochs=50, validation_data=(x_test, y_test),verbose=1)"
      ],
      "metadata": {
        "id": "oJnLtanRqwwO"
      },
      "execution_count": null,
      "outputs": []
    },
    {
      "cell_type": "code",
      "source": [
        "#evalute accuracy on testing data\n",
        "evaluation = AlexNet.evaluate(x_test, y_test)\n",
        "print('Test Accuracy: {}'.format(evaluation[1]))"
      ],
      "metadata": {
        "id": "9F1Bh1E-qzgA"
      },
      "execution_count": null,
      "outputs": []
    },
    {
      "cell_type": "code",
      "source": [
        "#getting original weights\n",
        "original_w = AlexNet.get_weights()"
      ],
      "metadata": {
        "id": "SYL19s4cq3SQ"
      },
      "execution_count": null,
      "outputs": []
    },
    {
      "cell_type": "code",
      "source": [
        "accuracys=[]"
      ],
      "metadata": {
        "id": "h0pPB5V9SGUM"
      },
      "execution_count": null,
      "outputs": []
    },
    {
      "cell_type": "code",
      "source": [
        "num_layers=9"
      ],
      "metadata": {
        "id": "wKM2dpYpq48M"
      },
      "execution_count": null,
      "outputs": []
    },
    {
      "cell_type": "code",
      "source": [
        "import random\n",
        "import numpy as np\n",
        "import struct\n",
        "x=num_layers - 1\n",
        "new_acc = []\n",
        "indexes = []\n",
        "weights = original_w\n",
        "for i in range(len(original_w)-2,len(original_w)-1-(2*x),-2):\n",
        "   indexes.append(i)\n",
        "l1=indexes[::-1]\n",
        "for i in range(len(l1)):  \n",
        "  for j in range(50):\n",
        "      k=random.randint(0,len(weights[l1[i]])-1)\n",
        "      idx=random.randint(0,len(weights[l1[i]][k])-1)\n",
        "      r_weight = weights[l1[i]][k][idx]\n",
        "      # print(r_weight)\n",
        "      r_weight = format(struct.unpack('!I', struct.pack('!f', r_weight))[0], '032b')\n",
        "      r_bit_index = random.randint(0,31)\n",
        "      r_bit = r_weight[r_bit_index]\n",
        "      \n",
        "      if(r_bit == '0'):\n",
        "        r_weight = r_weight[:r_bit_index] + '1' + r_weight[r_bit_index + 1:]\n",
        "      if(r_bit == '1'):\n",
        "        r_weight = r_weight[:r_bit_index] + '0' + r_weight[r_bit_index + 1:]\n",
        "      r_weight = struct.unpack('!f',struct.pack('!I', int(r_weight, 2)))[0]\n",
        "      # print(r_weight)\n",
        "      weights[l1[i]][k][idx]=r_weight\n",
        "  AlexNet.set_weights(weights)\n",
        "  print(\"layer \", i+1)\n",
        "  print(\"no of weights changed: \",j+1)\n",
        "  acc = AlexNet.evaluate(x_test, y_test)\n",
        "  print(\"test accuracy {}\".format(acc[1]))\n",
        "  new_acc.append(acc[1]*100)\n",
        "  weights=original_w\n",
        "  AlexNet.set_weights(original_w)\n",
        "  print(\"\\n\")\n",
        "accuracys.append(new_acc)"
      ],
      "metadata": {
        "id": "Ok5gh2x5SDom"
      },
      "execution_count": null,
      "outputs": []
    },
    {
      "cell_type": "code",
      "source": [
        "#here we are changing the weights of each layer by multilplying the scallar value and obtained accuracy on change weeights\n",
        "accuracys=[]\n",
        "x=num_layers\n",
        "for i in range(len(original_w)-1,len(original_w)-1-num_layers,-1):\n",
        "  accuracy=[]\n",
        "  print(\"Layer :\",x)\n",
        "  for scalar in [.25, 0.5, .75, 0.9, 1.1,1.25,1.5,1.75,2.]:\n",
        "    new_w=[]\n",
        "    for w in range(len(original_w)):\n",
        "      if(w==i):\n",
        "        new_w.append(original_w[w]*scalar)\n",
        "      else:\n",
        "        new_w.append(original_w[w])\n",
        "    AlexNet.set_weights(new_w)\n",
        "    evaluation = AlexNet.evaluate(x_test, y_test)\n",
        "    print(\"Scallar {} --> test accuracy {}\".format(scalar,evaluation[1]))\n",
        "    accuracy.append(evaluation[1])\n",
        "    AlexNet.set_weights(original_w)\n",
        "  x-=1\n",
        "  AlexNet.set_weights(original_w)\n",
        "  accuracys.append(accuracy)"
      ],
      "metadata": {
        "id": "DmrG7okUq-rG"
      },
      "execution_count": null,
      "outputs": []
    },
    {
      "cell_type": "code",
      "source": [
        "average=[]\n",
        "for i in accuracys:\n",
        "  average.append(sum(i)/len(i))\n",
        "print(average)"
      ],
      "metadata": {
        "id": "jOqzhnHTq_dm"
      },
      "execution_count": null,
      "outputs": []
    },
    {
      "cell_type": "code",
      "source": [
        "scalars=[ .25, 0.5, .75, 0.9, 1.1,1.25,1.5,1.75,2.]"
      ],
      "metadata": {
        "id": "eUyvG1RlrBwE"
      },
      "execution_count": null,
      "outputs": []
    },
    {
      "cell_type": "code",
      "source": [
        "import matplotlib.pyplot as plt\n",
        "for i in range(len(accuracys)):\n",
        "  plt.plot(scalars, accuracys[i], label=f'layer {num_layers-i}')\n",
        "plt.xlabel('Scalar')\n",
        "plt.ylabel('Accuracy')\n",
        "plt.title('Effect on accuracy when weights are multiplied by scalers on alexnet variant')\n",
        "plt.legend()\n",
        "plt.show()"
      ],
      "metadata": {
        "id": "KUn8d7CCrDhS"
      },
      "execution_count": null,
      "outputs": []
    },
    {
      "cell_type": "code",
      "source": [
        "accuracys=[]\n",
        "x=num_layers\n",
        "for i in range(len(original_w)-1,len(original_w)-1-num_layers,-1):\n",
        "  accuracy=[]\n",
        "  print(\"Layer :\",x)\n",
        "  for scalar in [.25, 0.5, .75, 0.9, 1.1,1.25,1.5,1.75,2.]:\n",
        "    new_w=[]\n",
        "    for w in range(len(original_w)):\n",
        "      if(w==i):\n",
        "        new_w.append(original_w[w]+scalar)\n",
        "      else:\n",
        "        new_w.append(original_w[w])\n",
        "    AlexNet.set_weights(new_w)\n",
        "    evaluation = AlexNet.evaluate(x_test, y_test)\n",
        "    print(\"Scallar {} --> test accuracy {}\".format(scalar,evaluation[1]))\n",
        "    accuracy.append(evaluation[1])\n",
        "    AlexNet.set_weights(original_w)\n",
        "  x-=1\n",
        "  AlexNet.set_weights(original_w)\n",
        "  accuracys.append(accuracy)"
      ],
      "metadata": {
        "id": "2wvBaSUZrFqP"
      },
      "execution_count": null,
      "outputs": []
    },
    {
      "cell_type": "code",
      "source": [
        "average=[]\n",
        "for i in accuracys:\n",
        "  average.append(sum(i)/len(i))\n",
        "print(average)"
      ],
      "metadata": {
        "id": "aArU35e5rFma"
      },
      "execution_count": null,
      "outputs": []
    },
    {
      "cell_type": "code",
      "source": [
        "import matplotlib.pyplot as plt\n",
        "for i in range(len(accuracys)):\n",
        "  plt.plot(scalars, accuracys[i], label=f'layer {num_layers-i}')\n",
        "plt.xlabel('Scalar')\n",
        "plt.ylabel('Accuracy')\n",
        "plt.title('Effect on accuracy when weights are added by scalers')\n",
        "plt.legend()\n",
        "plt.show()"
      ],
      "metadata": {
        "id": "FRxD0TO-rFff"
      },
      "execution_count": null,
      "outputs": []
    },
    {
      "cell_type": "code",
      "source": [
        "accuracys=[]"
      ],
      "metadata": {
        "id": "22MFBJPcwhef"
      },
      "execution_count": null,
      "outputs": []
    },
    {
      "cell_type": "code",
      "source": [
        "import random\n",
        "import numpy as np\n",
        "import struct\n",
        "x=num_layers - 1\n",
        "new_acc = []\n",
        "indexes = []\n",
        "weights = original_w.copy()\n",
        "for i in range(len(original_w)-2,len(original_w)-1-(2*x),-2):\n",
        "   indexes.append(i)\n",
        "l1=indexes[::-1]\n",
        "for i in range(len(l1)):\n",
        "  \n",
        "  for j in range(2,3,2):\n",
        "    for k in range(len(weights[l1[i]])):\n",
        "      \n",
        "      idx=random.randint(0,len(weights[l1[i]][k])-1)\n",
        "      r_weight = weights[l1[i]][k][idx]\n",
        "      r_weight = format(struct.unpack('!I', struct.pack('!f', r_weight))[0], '032b')\n",
        "      r_bit_index = random.randint(0,31)\n",
        "      r_bit = r_weight[r_bit_index]\n",
        "      \n",
        "      if(r_bit == '0'):\n",
        "        r_weight = r_weight[:r_bit_index] + '1' + r_weight[r_bit_index + 1:]\n",
        "      if(r_bit == '1'):\n",
        "        r_weight = r_weight[:r_bit_index] + '0' + r_weight[r_bit_index + 1:]\n",
        "      r_weight = struct.unpack('!f',struct.pack('!I', int(r_weight, 2)))[0]\n",
        "      weights[l1[i]][k][idx]=r_weight\n",
        "  model1.set_weights(weights)\n",
        "  print(\"no of weights changed: \",j)\n",
        "  # acc = model1.evaluate(x_test, y_test)\n",
        "  # print(\"test accuracy {}\".format(acc[1]))\n",
        "  evaluation = model1.evaluate(x_test, y_test_cat)\n",
        "  print(\"test accuracy {}\".format(evaluation[1]))\n",
        "  new_acc.append(evaluation[1]*100)\n",
        "  weights=original_w\n",
        "  print(\"\\n\")"
      ],
      "metadata": {
        "id": "k1XJZrAowWvf"
      },
      "execution_count": null,
      "outputs": []
    },
    {
      "cell_type": "code",
      "source": [
        "acc_graph=[]\n",
        "for j in range(len(accuracys[0])):\n",
        "  a=[]\n",
        "  for i in range(len(accuracys)):\n",
        "    a.append(accuracys[i][j])\n",
        "  acc_graph.append(a)"
      ],
      "metadata": {
        "id": "_sJ85YzSwgrS"
      },
      "execution_count": null,
      "outputs": []
    },
    {
      "cell_type": "code",
      "source": [
        "numberofweightchange=[50,75,100,125,150]\n",
        "for i in range(len(acc_graph)):\n",
        "  plt.plot(numberofweightchange, acc_graph[i], label=f'layer {len(acc_graph)-i-1}')\n",
        "plt.xlabel('Number of weights changed')\n",
        "plt.ylabel('Accuracy')\n",
        "plt.title('Effect on accuracy when weights are changed by bit-flip')\n",
        "plt.legend()\n",
        "plt.show()"
      ],
      "metadata": {
        "id": "0BEmS5iOwpGT"
      },
      "execution_count": null,
      "outputs": []
    },
    {
      "cell_type": "code",
      "source": [
        "average=[]\n",
        "for i in acc_graph:\n",
        "  average.append(sum(i)/len(i))\n",
        "print(average)"
      ],
      "metadata": {
        "id": "FFl9jlXgwrIx"
      },
      "execution_count": null,
      "outputs": []
    }
  ]
}