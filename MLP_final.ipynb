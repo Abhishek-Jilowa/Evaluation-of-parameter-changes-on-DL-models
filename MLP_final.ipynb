{
  "cells": [
    {
      "cell_type": "code",
      "execution_count": null,
      "metadata": {
        "colab": {
          "base_uri": "https://localhost:8080/"
        },
        "id": "7Y0QeHVWIv7z",
        "outputId": "7e612269-3317-4608-dbb6-2500d04b9d35"
      },
      "outputs": [
        {
          "output_type": "stream",
          "name": "stdout",
          "text": [
            "Mounted at /content/drive\n"
          ]
        }
      ],
      "source": [
        "from google.colab import drive\n",
        "drive.mount('/content/drive')"
      ]
    },
    {
      "cell_type": "markdown",
      "metadata": {
        "id": "k7pU0F90ImCx"
      },
      "source": [
        "# 1. Import necessary libraries <a class=\"anchor\" id=\"2\"></a>\n",
        "\n"
      ]
    },
    {
      "cell_type": "code",
      "execution_count": null,
      "metadata": {
        "id": "Jka2GaqsImCx"
      },
      "outputs": [],
      "source": [
        " \n",
        "\n",
        "import numpy as np \n",
        "import pandas as pd \n",
        "\n",
        "\n",
        "import matplotlib.pyplot as plt # plotting library\n",
        "%matplotlib inline\n",
        "\n",
        "\n",
        "from keras.models import Sequential\n",
        "from keras.layers import Dense , Activation, Dropout,Flatten\n",
        "from keras.optimizers import Adam ,RMSprop\n",
        "from keras import  backend as K\n",
        "from tensorflow import keras\n",
        "from tensorflow.keras import layers\n",
        "import matplotlib.pyplot as plt\n",
        "import pickle\n",
        "from PIL import Image\n",
        "import torchvision.datasets as dsets\n",
        "import torchvision.transforms as transforms\n",
        "import torch\n",
        "import torch.nn as nn\n",
        "import pickle\n",
        "import os\n",
        "import torch.nn.functional as F\n",
        "import requests\n",
        "from sklearn.metrics import confusion_matrix, classification_report\n",
        "import seaborn as sn\n",
        "import pandas as pd\n",
        "torch.manual_seed(1)\n",
        "from sklearn import preprocessing\n",
        "from torch.utils.data import DataLoader, Dataset, Subset\n",
        "\n",
        "\n",
        "\n",
        "\n"
      ]
    },
    {
      "cell_type": "markdown",
      "metadata": {
        "id": "-MAwYbdyImCz"
      },
      "source": [
        "# 2.Importing dataset <a class=\"anchor\" id=\"3\"></a>\n",
        "\n",
        "\n"
      ]
    },
    {
      "cell_type": "code",
      "execution_count": null,
      "metadata": {
        "id": "O9OmbyQWLUkG",
        "colab": {
          "base_uri": "https://localhost:8080/"
        },
        "outputId": "3ebc5240-bc08-46c5-eb79-a1c438205ece"
      },
      "outputs": [
        {
          "output_type": "stream",
          "name": "stdout",
          "text": [
            "Downloading data from https://www.cs.toronto.edu/~kriz/cifar-10-python.tar.gz\n",
            "170498071/170498071 [==============================] - 2s 0us/step\n"
          ]
        }
      ],
      "source": [
        "(x_train, y_train), (x_test, y_test) = keras.datasets.cifar10.load_data()\n",
        "assert x_train.shape == (50000, 32, 32, 3)\n",
        "assert x_test.shape == (10000, 32, 32, 3)\n",
        "assert y_train.shape == (50000, 1)\n",
        "assert y_test.shape == (10000, 1)"
      ]
    },
    {
      "cell_type": "code",
      "execution_count": null,
      "metadata": {
        "colab": {
          "base_uri": "https://localhost:8080/"
        },
        "id": "fuOv8qSXLUZG",
        "outputId": "ff968f5f-9de4-4f3e-d448-4918e5770a1b"
      },
      "outputs": [
        {
          "output_type": "stream",
          "name": "stdout",
          "text": [
            "Shape of x_train is (50000, 32, 32, 3)\n",
            "Shape of x_test is (10000, 32, 32, 3)\n",
            "Shape of y_train is (50000, 1)\n",
            "Shape of y_test is (10000, 1)\n"
          ]
        }
      ],
      "source": [
        "print('Shape of x_train is {}'.format(x_train.shape))\n",
        "print('Shape of x_test is {}'.format(x_test.shape)) \n",
        "print('Shape of y_train is {}'.format(y_train.shape))\n",
        "print('Shape of y_test is {}'.format(y_test.shape))"
      ]
    },
    {
      "cell_type": "markdown",
      "metadata": {
        "id": "LBm28136ImC1"
      },
      "source": [
        "# 3. Data visualization <a class=\"anchor\" id=\"4\"></a>\n",
        "\n",
        "\n",
        "\n",
        "\n",
        "- The following code will help to sample the 25 random MNIST digits and visualize them."
      ]
    },
    {
      "cell_type": "code",
      "execution_count": null,
      "metadata": {
        "colab": {
          "base_uri": "https://localhost:8080/",
          "height": 311
        },
        "id": "5nwwUQlmImC2",
        "outputId": "2b26100e-eff9-41d2-fdb0-de37ee79b2a1"
      },
      "outputs": [
        {
          "output_type": "stream",
          "name": "stdout",
          "text": [
            "Example training images and their labels: [6, 9, 9, 4, 1]\n",
            "Corresponding classes for the labels: ['frog', 'truck', 'truck', 'deer', 'automobile']\n"
          ]
        },
        {
          "output_type": "display_data",
          "data": {
            "text/plain": [
              "<Figure size 1600x600 with 5 Axes>"
            ],
            "image/png": "[encoded data removed]"
          },
          "metadata": {}
        }
      ],
      "source": [
        "import matplotlib.pyplot as plt\n",
        "\n",
        "cifar_classes = ['airplane', 'automobile', 'bird', 'cat', 'deer', 'dog', 'frog', 'horse', 'ship', 'truck']\n",
        "print('Example training images and their labels: ' + str([x[0] for x in y_train[0:5]])) \n",
        "print('Corresponding classes for the labels: ' + str([cifar_classes[x[0]] for x in y_train[0:5]]))\n",
        "\n",
        "f, axarr = plt.subplots(1, 5)\n",
        "f.set_size_inches(16, 6)\n",
        "\n",
        "for i in range(5):\n",
        "    img = x_train[i]\n",
        "    axarr[i].imshow(img)\n",
        "plt.show()"
      ]
    },
    {
      "cell_type": "markdown",
      "metadata": {
        "id": "v7o52Q9CImC2"
      },
      "source": [
        "# 4. Designing model architecture using Keras <a class=\"anchor\" id=\"5\"></a>\n",
        "\n",
        "\n",
        "- The following code shows how to design the MLP model architecture using Keras.\n",
        "\n",
        "- The first step in designing the model architecture is to import the Keras layers. This can be done as follows:\n",
        "\n",
        "\n"
      ]
    },
    {
      "cell_type": "markdown",
      "metadata": {
        "id": "yZ5FE6pUImC3"
      },
      "source": [
        "## 4.1 Import Keras layers <a class=\"anchor\" id=\"5.1\"></a>"
      ]
    },
    {
      "cell_type": "code",
      "execution_count": null,
      "metadata": {
        "id": "MJ8NcghZImC4"
      },
      "outputs": [],
      "source": [
        "from keras.models import Sequential\n",
        "from keras.layers import Dense, Activation, Dropout\n",
        "from keras.utils import to_categorical, plot_model"
      ]
    },
    {
      "cell_type": "markdown",
      "metadata": {
        "id": "Y6B8RbirImC4"
      },
      "source": [
        "## 4.2 Compute the number of labels <a class=\"anchor\" id=\"5.2\"></a>\n",
        "\n",
        "- Now, the data must be in the correct shape and format. \n",
        "\n",
        "- After loading the MNIST dataset, the number of labels is computed as:"
      ]
    },
    {
      "cell_type": "code",
      "execution_count": null,
      "metadata": {
        "colab": {
          "base_uri": "https://localhost:8080/"
        },
        "id": "WbwvnSNUImC5",
        "outputId": "d1295e4e-f499-48d4-9f2b-2486a1b82973"
      },
      "outputs": [
        {
          "output_type": "stream",
          "name": "stdout",
          "text": [
            "10\n"
          ]
        }
      ],
      "source": [
        "# compute the number of labels\n",
        "num_labels = 10\n",
        "print(num_labels)"
      ]
    },
    {
      "cell_type": "markdown",
      "metadata": {
        "id": "dACC69CCImC5"
      },
      "source": [
        "## 4.3 One-Hot Encoding <a class=\"anchor\" id=\"5.3\"></a>\n",
        "\n",
        "- At this point, the labels are in digits format, 0 to 9. \n",
        "\n",
        "- This sparse scalar representation of labels is not suitable for the neural network prediction layer that outputs probabilities per class. \n",
        "\n",
        "- A more suitable format is called a one-hot vector, a 10-dim vector with all elements 0, except for the index of the digit class. \n",
        "\n",
        "- For example, if the label is 2, the equivalent one-hot vector is [0,0,1,0,0,0,0,0,0,0]. The first label has index 0.\n",
        "\n",
        "- The following lines convert each label into a one-hot vector:"
      ]
    },
    {
      "cell_type": "markdown",
      "metadata": {
        "id": "5znxbBfVImC6"
      },
      "source": [
        "## 4.4 Data Preprocessing <a class=\"anchor\" id=\"5.4\"></a>\n",
        "\n",
        "\n"
      ]
    },
    {
      "cell_type": "code",
      "execution_count": null,
      "metadata": {
        "colab": {
          "base_uri": "https://localhost:8080/"
        },
        "id": "t-A6qjpuImC6",
        "outputId": "d8192e8e-a65a-4a64-f456-3052d97387e9"
      },
      "outputs": [
        {
          "output_type": "execute_result",
          "data": {
            "text/plain": [
              "1024"
            ]
          },
          "metadata": {},
          "execution_count": 11
        }
      ],
      "source": [
        "# image dimensions (assumed square)\n",
        "image_size = x_train.shape[1]\n",
        "input_size = image_size * image_size\n",
        "input_size"
      ]
    },
    {
      "cell_type": "code",
      "execution_count": null,
      "metadata": {
        "id": "LC26k7T-ImC6"
      },
      "outputs": [],
      "source": [
        "y_train = to_categorical(y_train, num_classes=10)\n",
        "y_test = to_categorical(y_test, num_classes=10)\n",
        "\n",
        "# Transform images from (32,32,3) to 3072-dimensional vectors (32*32*3)\n",
        "\n",
        "x_train = np.reshape(x_train,(50000,3072))\n",
        "x_test = np.reshape(x_test,(10000,3072))\n",
        "x_train = x_train.astype('float32')\n",
        "x_test = x_test.astype('float32')\n",
        "\n",
        "# Normalization of pixel values (to [0-1] range)\n",
        "\n",
        "x_train /= 255\n",
        "x_test /= 255"
      ]
    },
    {
      "cell_type": "markdown",
      "metadata": {
        "id": "5y2PtV6uImC8"
      },
      "source": [
        "## 4.5 Setting network parameters <a class=\"anchor\" id=\"5.5\"></a>\n",
        "\n",
        "- Now, we will set the network parameters as follows:"
      ]
    },
    {
      "cell_type": "code",
      "execution_count": null,
      "metadata": {
        "id": "qMglQO1JImC8"
      },
      "outputs": [],
      "source": [
        "# network parameters\n",
        "batch_size = 32\n",
        "hidden_units = 256\n",
        "dropout = 0.45"
      ]
    },
    {
      "cell_type": "markdown",
      "metadata": {
        "id": "xlDRsaf9ImC8"
      },
      "source": [
        "- The **batch_size** argument indicates the number of data that we will use for each update of the model parameters.\n",
        "\n",
        "- **Hidden_units** shows the number of hidden units.\n",
        "\n",
        "- **Dropout** is the dropout rate "
      ]
    },
    {
      "cell_type": "markdown",
      "metadata": {
        "id": "ygIjgDHdImC8"
      },
      "source": [
        "## 4.6 Designing the model architecture <a class=\"anchor\" id=\"5.6\"></a>\n",
        "\n",
        "\n",
        "- The next step is to design the model architecture. The proposed model is made of three MLP layers. \n",
        "\n",
        "- In Keras, an MLP layer is referred to as Dense, which stands for the densely connected layer. \n",
        "\n",
        "- Both the first and second MLP layers are identical in nature with 256 units each, followed by relu activation and dropout. \n",
        "\n",
        "- 256 units are chosen since 128, 512 and 1,024 units have lower performance metrics. At 128 units, the network converges quickly, but has a lower test accuracy. The added number units for 512 or 1,024 does not increase the test accuracy significantly."
      ]
    },
    {
      "cell_type": "markdown",
      "metadata": {
        "id": "JljxXOFTImC8"
      },
      "source": [
        "- The main data structure in Keras is the Sequential class, which allows the creation of a basic neural network.\n",
        "\n",
        "- The Sequential class of the Keras library is a wrapper for the sequential neural network model that Keras offers and can be created in the following way:\n",
        "\n",
        "`from keras.models import Sequential`\n",
        "\n",
        "`model = Sequential()`\n",
        "\n",
        "- The model in Keras is considered as a sequence of layers and each of them gradually “distills” the input data to obtain the desired output.\n",
        "\n",
        "- In Keras, we can add the required types of layers through the **add()** method."
      ]
    },
    {
      "cell_type": "code",
      "execution_count": null,
      "metadata": {
        "id": "4QaO5vDdImC9"
      },
      "outputs": [],
      "source": [
        "# model is a MLP with ReLU and dropout after each layer\n",
        "model = Sequential()\n",
        "model.add(Flatten(input_shape=x_train.shape[1:]))\n",
        "model.add(Dense(2349, activation='relu'))\n",
        "model.add(Dropout(0.2134))\n",
        "model.add(Dense(2763, activation='relu'))\n",
        "model.add(Dropout(0.3679))\n",
        "model.add(Dense(2106, activation='relu'))\n",
        "model.add(Dropout(0.4261))\n",
        "model.add(Dense(10, activation='softmax'))\n"
      ]
    },
    {
      "cell_type": "markdown",
      "metadata": {
        "id": "syNASKmgImC9"
      },
      "source": [
        "- Since a Dense layer is a linear operation, a sequence of Dense layers can only approximate a linear function. \n",
        "\n",
        "- The problem is that the MNIST digit classification is inherently a non-linear process. Inserting a relu activation between Dense layers will enable MLPs to model non-linear mappings. \n",
        "\n",
        "- relu or Rectified Linear Unit (ReLU) is a simple non-linear function. It allows positive inputs to pass through unchanged while clamping everything else to zero."
      ]
    },
    {
      "cell_type": "markdown",
      "metadata": {
        "id": "L5Q_DyaKImC9"
      },
      "source": [
        "## 4.7 View model summary <a class=\"anchor\" id=\"5.7\"></a>\n",
        "\n",
        "- Keras library provides us **summary()** method to check the model description."
      ]
    },
    {
      "cell_type": "code",
      "execution_count": null,
      "metadata": {
        "colab": {
          "base_uri": "https://localhost:8080/"
        },
        "id": "Shg7rrC1ImC9",
        "outputId": "6a390477-1824-44cd-b3da-4fbaddbfdd03"
      },
      "outputs": [
        {
          "output_type": "stream",
          "name": "stdout",
          "text": [
            "Model: \"sequential\"\n",
            "_________________________________________________________________\n",
            " Layer (type)                Output Shape              Param #   \n",
            "=================================================================\n",
            " flatten (Flatten)           (None, 3072)              0         \n",
            "                                                                 \n",
            " dense (Dense)               (None, 2349)              7218477   \n",
            "                                                                 \n",
            " dropout (Dropout)           (None, 2349)              0         \n",
            "                                                                 \n",
            " dense_1 (Dense)             (None, 2763)              6493050   \n",
            "                                                                 \n",
            " dropout_1 (Dropout)         (None, 2763)              0         \n",
            "                                                                 \n",
            " dense_2 (Dense)             (None, 2106)              5820984   \n",
            "                                                                 \n",
            " dropout_2 (Dropout)         (None, 2106)              0         \n",
            "                                                                 \n",
            " dense_3 (Dense)             (None, 10)                21070     \n",
            "                                                                 \n",
            "=================================================================\n",
            "Total params: 19,553,581\n",
            "Trainable params: 19,553,581\n",
            "Non-trainable params: 0\n",
            "_________________________________________________________________\n"
          ]
        }
      ],
      "source": [
        "model.summary()"
      ]
    },
    {
      "cell_type": "markdown",
      "metadata": {
        "id": "SAO_OhjLImC-"
      },
      "source": [
        "- The above listing shows the model summary of the proposed network. It requires a total of 269,322 parameters.\n",
        "\n",
        "- This is substantial considering that we have a simple task of classifying MNIST digits. So, MLPs are not parameter efficient. \n",
        "\n",
        "- The total number of parameters required can be computed as follows:\n",
        "\n",
        "  - From input to Dense layer: 784 × 256 + 256 = 200,960. \n",
        "  \n",
        "  - From first Dense to second Dense: 256 × 256 + 256 = 65,792. \n",
        "  \n",
        "  - From second Dense to the output layer: 10 × 256 + 10 = 2,570. \n",
        "  \n",
        "  - The total is 200,690 + 65,972 + 2,570 = 269,322."
      ]
    },
    {
      "cell_type": "markdown",
      "metadata": {
        "id": "uZZ-TyqPImC-"
      },
      "source": [
        "- Another way of verifying the network is by calling the **plot_model()** method as follows:"
      ]
    },
    {
      "cell_type": "code",
      "execution_count": null,
      "metadata": {
        "colab": {
          "base_uri": "https://localhost:8080/",
          "height": 976
        },
        "id": "cHowsQq7ImC-",
        "outputId": "6fc99d23-5f1b-4890-903d-57e6c23c2c2d"
      },
      "outputs": [
        {
          "output_type": "execute_result",
          "data": {
            "image/png": "[encoded data removed]",
            "text/plain": [
              "<IPython.core.display.Image object>"
            ]
          },
          "metadata": {},
          "execution_count": 16
        }
      ],
      "source": [
        "plot_model(model, to_file='mlp-mnist.png', show_shapes=True)"
      ]
    },
    {
      "cell_type": "markdown",
      "metadata": {
        "id": "ftXylb7LImC-"
      },
      "source": [
        "# 5. Implement MLP model using Keras <a class=\"anchor\" id=\"6\"></a>\n",
        "\n",
        "\n",
        "\n",
        "\n",
        "\n",
        "- The implementation of MLP model in Keras comprises of three steps:-\n",
        "\n",
        "  - Compiling the model with the compile() method.\n",
        "  \n",
        "  - Training the model with fit() method.\n",
        "  \n",
        "  - Evaluating the model performance with evaluate() method.\n",
        "  \n",
        "  \n"
      ]
    },
    {
      "cell_type": "markdown",
      "metadata": {
        "id": "ZbxHYQ_ZImC-"
      },
      "source": [
        "## 5.1 Compile the model with compile() method <a class=\"anchor\" id=\"6.1\"></a>\n",
        "\n",
        "\n",
        "- Compilation of model can be done as follows:"
      ]
    },
    {
      "cell_type": "code",
      "execution_count": null,
      "metadata": {
        "id": "C1x8HoJRImC_"
      },
      "outputs": [],
      "source": [
        "from tensorflow.keras.optimizers import SGD\n",
        "sgd = SGD(learning_rate=0.001)\n",
        "\n",
        "model.compile(optimizer=sgd,loss='categorical_crossentropy',metrics=['accuracy'])"
      ]
    },
    {
      "cell_type": "markdown",
      "metadata": {
        "id": "9IVPDC7mImC_"
      },
      "source": [
        "### Loss function (categorical_crossentropy)\n",
        "\n",
        "- How far the predicted tensor is from the one-hot ground truth vector is called **loss**.\n",
        "\n",
        "- In this example, we use **categorical_crossentropy** as the loss function. It is the negative of the sum of the product of the target and the logarithm of the prediction. \n",
        "\n",
        "- There are other loss functions in Keras, such as mean_absolute_error and binary_crossentropy. The choice of the loss function is not arbitrary but should be a criterion that the model is learning. \n",
        "\n",
        "- For classification by category, categorical_crossentropy or mean_squared_error is a good choice after the softmax activation layer. The binary_crossentropy loss function is normally used after the sigmoid activation layer while mean_squared_error is an option for tanh output."
      ]
    },
    {
      "cell_type": "markdown",
      "metadata": {
        "id": "gekeGaOmImC_"
      },
      "source": [
        "### Optimization (optimizer adam)\n",
        "\n",
        "- With optimization, the objective is to minimize the loss function. The idea is that if the loss is reduced to an acceptable level, the model has indirectly learned the function mapping input to output.\n",
        "\n",
        "- In Keras, there are several choices for optimizers. The most commonly used optimizers are; **Stochastic Gradient Descent (SGD)**, **Adaptive Moments (Adam)** and **Root Mean Squared Propagation (RMSprop)**. \n",
        "\n",
        "- Each optimizer features tunable parameters like learning rate, momentum, and decay. \n",
        "\n",
        "- Adam and RMSprop are variations of SGD with adaptive learning rates. In the proposed classifier network, Adam is used since it has the highest test accuracy."
      ]
    },
    {
      "cell_type": "markdown",
      "metadata": {
        "id": "cs1PBYp_ImC_"
      },
      "source": [
        "### Metrics (accuracy)\n",
        "\n",
        "- Performance metrics are used to determine if a model has learned the underlying data distribution. The default metric in Keras is loss. \n",
        "\n",
        "- During training, validation, and testing, other metrics such as **accuracy** can also be included. \n",
        "\n",
        "- **Accuracy** is the percent, or fraction, of correct predictions based on ground truth."
      ]
    },
    {
      "cell_type": "markdown",
      "metadata": {
        "id": "aZlPsBrJImC_"
      },
      "source": [
        "## 5.2 Train the model with fit() method <a class=\"anchor\" id=\"6.2\"></a>"
      ]
    },
    {
      "cell_type": "code",
      "execution_count": null,
      "metadata": {
        "colab": {
          "base_uri": "https://localhost:8080/"
        },
        "id": "-J7J1BHmImDA",
        "outputId": "9c4d0d37-9f0d-4e60-db4f-2561f72e8170"
      },
      "outputs": [
        {
          "output_type": "stream",
          "name": "stdout",
          "text": [
            "Epoch 1/30\n",
            "2500/2500 - 428s - loss: 2.1179 - accuracy: 0.2197 - val_loss: 1.9128 - val_accuracy: 0.3250 - 428s/epoch - 171ms/step\n",
            "Epoch 2/30\n",
            "2500/2500 - 421s - loss: 1.9288 - accuracy: 0.3047 - val_loss: 1.8308 - val_accuracy: 0.3497 - 421s/epoch - 169ms/step\n",
            "Epoch 3/30\n",
            "2500/2500 - 373s - loss: 1.8517 - accuracy: 0.3376 - val_loss: 1.7673 - val_accuracy: 0.3741 - 373s/epoch - 149ms/step\n",
            "Epoch 4/30\n",
            "2500/2500 - 373s - loss: 1.7987 - accuracy: 0.3606 - val_loss: 1.7173 - val_accuracy: 0.3919 - 373s/epoch - 149ms/step\n",
            "Epoch 5/30\n",
            "2500/2500 - 372s - loss: 1.7617 - accuracy: 0.3751 - val_loss: 1.6791 - val_accuracy: 0.4047 - 372s/epoch - 149ms/step\n",
            "Epoch 6/30\n",
            "2500/2500 - 370s - loss: 1.7268 - accuracy: 0.3866 - val_loss: 1.6498 - val_accuracy: 0.4191 - 370s/epoch - 148ms/step\n",
            "Epoch 7/30\n",
            "2500/2500 - 377s - loss: 1.6965 - accuracy: 0.3994 - val_loss: 1.6336 - val_accuracy: 0.4227 - 377s/epoch - 151ms/step\n",
            "Epoch 8/30\n",
            "2500/2500 - 375s - loss: 1.6731 - accuracy: 0.4077 - val_loss: 1.6031 - val_accuracy: 0.4331 - 375s/epoch - 150ms/step\n",
            "Epoch 9/30\n",
            "2500/2500 - 375s - loss: 1.6474 - accuracy: 0.4162 - val_loss: 1.5920 - val_accuracy: 0.4345 - 375s/epoch - 150ms/step\n",
            "Epoch 10/30\n",
            "2500/2500 - 373s - loss: 1.6290 - accuracy: 0.4218 - val_loss: 1.5706 - val_accuracy: 0.4454 - 373s/epoch - 149ms/step\n",
            "Epoch 11/30\n",
            "2500/2500 - 370s - loss: 1.6107 - accuracy: 0.4296 - val_loss: 1.5580 - val_accuracy: 0.4451 - 370s/epoch - 148ms/step\n",
            "Epoch 12/30\n",
            "2500/2500 - 372s - loss: 1.5910 - accuracy: 0.4377 - val_loss: 1.5414 - val_accuracy: 0.4508 - 372s/epoch - 149ms/step\n",
            "Epoch 13/30\n",
            "2500/2500 - 378s - loss: 1.5753 - accuracy: 0.4436 - val_loss: 1.5189 - val_accuracy: 0.4640 - 378s/epoch - 151ms/step\n",
            "Epoch 14/30\n",
            "2500/2500 - 396s - loss: 1.5561 - accuracy: 0.4483 - val_loss: 1.5083 - val_accuracy: 0.4667 - 396s/epoch - 158ms/step\n",
            "Epoch 15/30\n",
            "2500/2500 - 380s - loss: 1.5413 - accuracy: 0.4539 - val_loss: 1.5057 - val_accuracy: 0.4643 - 380s/epoch - 152ms/step\n",
            "Epoch 16/30\n",
            "2500/2500 - 373s - loss: 1.5283 - accuracy: 0.4587 - val_loss: 1.4858 - val_accuracy: 0.4718 - 373s/epoch - 149ms/step\n",
            "Epoch 17/30\n",
            "2500/2500 - 369s - loss: 1.5141 - accuracy: 0.4638 - val_loss: 1.4815 - val_accuracy: 0.4704 - 369s/epoch - 148ms/step\n",
            "Epoch 18/30\n",
            "2500/2500 - 374s - loss: 1.4991 - accuracy: 0.4667 - val_loss: 1.4690 - val_accuracy: 0.4783 - 374s/epoch - 149ms/step\n",
            "Epoch 19/30\n",
            "2500/2500 - 396s - loss: 1.4835 - accuracy: 0.4753 - val_loss: 1.4527 - val_accuracy: 0.4852 - 396s/epoch - 158ms/step\n",
            "Epoch 20/30\n",
            "2500/2500 - 370s - loss: 1.4744 - accuracy: 0.4781 - val_loss: 1.4380 - val_accuracy: 0.4899 - 370s/epoch - 148ms/step\n",
            "Epoch 21/30\n",
            "2500/2500 - 373s - loss: 1.4611 - accuracy: 0.4826 - val_loss: 1.4350 - val_accuracy: 0.4868 - 373s/epoch - 149ms/step\n",
            "Epoch 22/30\n",
            "2500/2500 - 373s - loss: 1.4476 - accuracy: 0.4874 - val_loss: 1.4216 - val_accuracy: 0.4999 - 373s/epoch - 149ms/step\n",
            "Epoch 23/30\n",
            "2500/2500 - 371s - loss: 1.4366 - accuracy: 0.4931 - val_loss: 1.4238 - val_accuracy: 0.4919 - 371s/epoch - 148ms/step\n",
            "Epoch 24/30\n",
            "2500/2500 - 372s - loss: 1.4242 - accuracy: 0.4967 - val_loss: 1.4165 - val_accuracy: 0.4947 - 372s/epoch - 149ms/step\n",
            "Epoch 25/30\n",
            "2500/2500 - 371s - loss: 1.4155 - accuracy: 0.5002 - val_loss: 1.4041 - val_accuracy: 0.5011 - 371s/epoch - 148ms/step\n",
            "Epoch 26/30\n",
            "2500/2500 - 372s - loss: 1.4047 - accuracy: 0.5023 - val_loss: 1.3994 - val_accuracy: 0.5014 - 372s/epoch - 149ms/step\n",
            "Epoch 27/30\n",
            "2500/2500 - 374s - loss: 1.3931 - accuracy: 0.5078 - val_loss: 1.3822 - val_accuracy: 0.5071 - 374s/epoch - 149ms/step\n",
            "Epoch 28/30\n",
            "2500/2500 - 376s - loss: 1.3831 - accuracy: 0.5098 - val_loss: 1.4084 - val_accuracy: 0.5001 - 376s/epoch - 151ms/step\n",
            "Epoch 29/30\n",
            "2500/2500 - 373s - loss: 1.3695 - accuracy: 0.5128 - val_loss: 1.3742 - val_accuracy: 0.5110 - 373s/epoch - 149ms/step\n",
            "Epoch 30/30\n",
            "2500/2500 - 374s - loss: 1.3635 - accuracy: 0.5172 - val_loss: 1.3711 - val_accuracy: 0.5119 - 374s/epoch - 149ms/step\n"
          ]
        },
        {
          "output_type": "execute_result",
          "data": {
            "text/plain": [
              "<keras.callbacks.History at 0x7fe1303d8370>"
            ]
          },
          "metadata": {},
          "execution_count": 18
        }
      ],
      "source": [
        "model.fit(x_train, y_train, epochs=30, batch_size=20,validation_data=(x_test,y_test),verbose=2)"
      ]
    },
    {
      "cell_type": "markdown",
      "metadata": {
        "id": "A0kI-wukImDA"
      },
      "source": [
        "## 5.3 Evaluating model performance with evaluate() method <a class=\"anchor\" id=\"6.3\"></a>"
      ]
    },
    {
      "cell_type": "code",
      "execution_count": null,
      "metadata": {
        "colab": {
          "base_uri": "https://localhost:8080/"
        },
        "id": "oI4bTg24ImDA",
        "outputId": "e400e68d-bf5c-4685-d6a5-d9af5684927f"
      },
      "outputs": [
        {
          "output_type": "stream",
          "name": "stdout",
          "text": [
            "313/313 [==============================] - 18s 56ms/step - loss: 1.3711 - accuracy: 0.5119\n",
            "\n",
            "Test accuracy: 51.2%\n"
          ]
        }
      ],
      "source": [
        "loss, acc = model.evaluate(x_test, y_test, batch_size=batch_size)\n",
        "print(\"\\nTest accuracy: %.1f%%\" % (100.0 * acc))"
      ]
    },
    {
      "cell_type": "code",
      "source": [
        "num_layers=4\n",
        "max_acc=acc"
      ],
      "metadata": {
        "id": "Pg04z_TLt2Q1"
      },
      "execution_count": null,
      "outputs": []
    },
    {
      "cell_type": "markdown",
      "source": [
        "## 5.4 Getting original weights <a class=\"anchor\" id=\"6.3\"></a>"
      ],
      "metadata": {
        "id": "zyranbwFrGip"
      }
    },
    {
      "cell_type": "code",
      "execution_count": null,
      "metadata": {
        "id": "bm8amITqPdT4"
      },
      "outputs": [],
      "source": [
        "weights = model.get_weights()"
      ]
    },
    {
      "cell_type": "code",
      "execution_count": null,
      "metadata": {
        "colab": {
          "base_uri": "https://localhost:8080/"
        },
        "id": "gDyGU05xXX_k",
        "outputId": "60e26a28-42ec-46a1-b5a8-bace9142ed4d"
      },
      "outputs": [
        {
          "output_type": "stream",
          "name": "stdout",
          "text": [
            "8\n"
          ]
        }
      ],
      "source": [
        "print(len(weights))"
      ]
    },
    {
      "cell_type": "code",
      "execution_count": null,
      "metadata": {
        "colab": {
          "base_uri": "https://localhost:8080/"
        },
        "id": "OsUQ8u1XZJiV",
        "outputId": "29a5dc95-481f-4481-aca4-d17fc8cb9336"
      },
      "outputs": [
        {
          "output_type": "stream",
          "name": "stdout",
          "text": [
            "(3072, 2349)\n",
            "(2349,)\n",
            "(2349, 2763)\n",
            "(2763,)\n",
            "(2763, 2106)\n",
            "(2106,)\n",
            "(2106, 10)\n",
            "(10,)\n"
          ]
        }
      ],
      "source": [
        "for i in range(len(weights)):\n",
        "  print(weights[i].shape)"
      ]
    },
    {
      "cell_type": "code",
      "execution_count": null,
      "metadata": {
        "colab": {
          "base_uri": "https://localhost:8080/"
        },
        "id": "maNdYyjThFEY",
        "outputId": "03693aff-994c-4e27-8748-00fba1c66dcd"
      },
      "outputs": [
        {
          "output_type": "execute_result",
          "data": {
            "text/plain": [
              "array([-0.02612606, -0.00128416, -0.00109426, ..., -0.02177607,\n",
              "       -0.01048959,  0.00837208], dtype=float32)"
            ]
          },
          "metadata": {},
          "execution_count": 25
        }
      ],
      "source": [
        "weights[1]"
      ]
    },
    {
      "cell_type": "code",
      "execution_count": null,
      "metadata": {
        "colab": {
          "base_uri": "https://localhost:8080/"
        },
        "id": "rgielI-3hy3h",
        "outputId": "2e2baa68-b81b-4c72-ebe4-eb19c8aae124"
      },
      "outputs": [
        {
          "output_type": "stream",
          "name": "stdout",
          "text": [
            "8\n"
          ]
        }
      ],
      "source": [
        "print(len( model.layers))"
      ]
    },
    {
      "cell_type": "code",
      "execution_count": null,
      "metadata": {
        "id": "37Ih2h59aIk_"
      },
      "outputs": [],
      "source": [
        "for layers in model.layers:\n",
        "  print(layers.get_weights())"
      ]
    },
    {
      "cell_type": "code",
      "execution_count": null,
      "metadata": {
        "colab": {
          "base_uri": "https://localhost:8080/"
        },
        "id": "Q8Uj1ra4SI7v",
        "outputId": "f29c2eb4-d09c-489b-a412-1f68d3d220d7"
      },
      "outputs": [
        {
          "output_type": "execute_result",
          "data": {
            "text/plain": [
              "2349"
            ]
          },
          "metadata": {},
          "execution_count": 30
        }
      ],
      "source": [
        "len(weights[1])"
      ]
    },
    {
      "cell_type": "code",
      "execution_count": null,
      "metadata": {
        "id": "1wNxp2IfnFu-"
      },
      "outputs": [],
      "source": [
        "original_weights=weights"
      ]
    },
    {
      "cell_type": "code",
      "execution_count": null,
      "metadata": {
        "id": "El6WBlmZpdJp"
      },
      "outputs": [],
      "source": [
        "original_model=model"
      ]
    },
    {
      "cell_type": "code",
      "execution_count": null,
      "metadata": {
        "colab": {
          "base_uri": "https://localhost:8080/"
        },
        "id": "JtFneHNQsEL_",
        "outputId": "ccc52994-9737-4ec3-a0f7-d70d32e82a02"
      },
      "outputs": [
        {
          "output_type": "execute_result",
          "data": {
            "text/plain": [
              "numpy.ndarray"
            ]
          },
          "metadata": {},
          "execution_count": 33
        }
      ],
      "source": [
        "type(weights[1])"
      ]
    },
    {
      "cell_type": "code",
      "execution_count": null,
      "metadata": {
        "id": "EiGmvEZnwL98"
      },
      "outputs": [],
      "source": [
        "weights=original_weights"
      ]
    },
    {
      "cell_type": "code",
      "source": [
        "weights_backup=original_weights"
      ],
      "metadata": {
        "id": "Btk4u0vRlyCW"
      },
      "execution_count": null,
      "outputs": []
    },
    {
      "cell_type": "markdown",
      "source": [
        "## 5.5 Defining scalars and changing weights of every layer by multipyling those scalars one by one"
      ],
      "metadata": {
        "id": "Xra0liL2rZy1"
      }
    },
    {
      "cell_type": "code",
      "execution_count": null,
      "metadata": {
        "id": "0dmztjThVGAl"
      },
      "outputs": [],
      "source": [
        "scalars=[ .75, 0.8, .85, 0.9, 1.1,1.25,1.3,1.35,1.4]\n",
        "new_acc=[]\n",
        "acc_change=[]"
      ]
    },
    {
      "cell_type": "code",
      "execution_count": null,
      "metadata": {
        "colab": {
          "base_uri": "https://localhost:8080/"
        },
        "id": "jmFBoqpMmwO4",
        "outputId": "1c6ebe03-ba30-4845-8c48-c1aec7417f28"
      },
      "outputs": [
        {
          "output_type": "stream",
          "name": "stdout",
          "text": [
            "4\n",
            "313/313 [==============================] - 14s 44ms/step - loss: 1.4110 - accuracy: 0.5017\n",
            "313/313 [==============================] - 14s 46ms/step - loss: 1.4024 - accuracy: 0.5074\n",
            "313/313 [==============================] - 14s 44ms/step - loss: 1.3980 - accuracy: 0.5115\n",
            "313/313 [==============================] - 14s 44ms/step - loss: 1.3982 - accuracy: 0.5140\n",
            "313/313 [==============================] - 14s 44ms/step - loss: 1.3930 - accuracy: 0.5068\n",
            "313/313 [==============================] - 14s 44ms/step - loss: 1.3882 - accuracy: 0.5090\n",
            "313/313 [==============================] - 16s 51ms/step - loss: 1.3862 - accuracy: 0.5121\n",
            "313/313 [==============================] - 14s 44ms/step - loss: 1.3867 - accuracy: 0.5135\n",
            "313/313 [==============================] - 14s 43ms/step - loss: 1.3807 - accuracy: 0.5085\n",
            "313/313 [==============================] - 14s 43ms/step - loss: 1.3785 - accuracy: 0.5117\n",
            "313/313 [==============================] - 14s 44ms/step - loss: 1.3780 - accuracy: 0.5125\n",
            "313/313 [==============================] - 13s 43ms/step - loss: 1.3786 - accuracy: 0.5141\n",
            "313/313 [==============================] - 18s 57ms/step - loss: 1.3733 - accuracy: 0.5108\n",
            "313/313 [==============================] - 14s 45ms/step - loss: 1.3726 - accuracy: 0.5119\n",
            "313/313 [==============================] - 16s 51ms/step - loss: 1.3729 - accuracy: 0.5136\n",
            "313/313 [==============================] - 14s 44ms/step - loss: 1.3735 - accuracy: 0.5133\n",
            "313/313 [==============================] - 14s 45ms/step - loss: 1.3827 - accuracy: 0.5111\n",
            "313/313 [==============================] - 14s 45ms/step - loss: 1.3808 - accuracy: 0.5131\n",
            "313/313 [==============================] - 14s 44ms/step - loss: 1.3786 - accuracy: 0.5117\n",
            "313/313 [==============================] - 14s 44ms/step - loss: 1.3774 - accuracy: 0.5123\n",
            "313/313 [==============================] - 14s 44ms/step - loss: 1.4200 - accuracy: 0.5073\n",
            "313/313 [==============================] - 14s 44ms/step - loss: 1.4119 - accuracy: 0.5100\n",
            "313/313 [==============================] - 14s 44ms/step - loss: 1.4037 - accuracy: 0.5120\n",
            "313/313 [==============================] - 16s 52ms/step - loss: 1.4001 - accuracy: 0.5118\n",
            "313/313 [==============================] - 14s 44ms/step - loss: 1.4368 - accuracy: 0.5059\n",
            "313/313 [==============================] - 14s 44ms/step - loss: 1.4259 - accuracy: 0.5073\n",
            "313/313 [==============================] - 13s 43ms/step - loss: 1.4151 - accuracy: 0.5118\n",
            "313/313 [==============================] - 14s 44ms/step - loss: 1.4105 - accuracy: 0.5118\n",
            "313/313 [==============================] - 13s 43ms/step - loss: 1.4553 - accuracy: 0.5032\n",
            "313/313 [==============================] - 13s 42ms/step - loss: 1.4414 - accuracy: 0.5066\n",
            "313/313 [==============================] - 13s 43ms/step - loss: 1.4278 - accuracy: 0.5107\n",
            "313/313 [==============================] - 16s 50ms/step - loss: 1.4221 - accuracy: 0.5115\n",
            "313/313 [==============================] - 13s 42ms/step - loss: 1.4755 - accuracy: 0.5024\n",
            "313/313 [==============================] - 13s 43ms/step - loss: 1.4583 - accuracy: 0.5060\n",
            "313/313 [==============================] - 13s 43ms/step - loss: 1.4417 - accuracy: 0.5103\n",
            "313/313 [==============================] - 12s 39ms/step - loss: 1.4349 - accuracy: 0.5113\n"
          ]
        }
      ],
      "source": [
        "l1=[2*i for i in range(num_layers)]\n",
        "print(len(l1))\n",
        "for j in range(len(scalars)):\n",
        "  for i in range(len(l1)):\n",
        "    if(i==0):\n",
        "      weights[l1[i]]*=scalars[j]\n",
        "      k=0\n",
        "      for layers in model.layers:\n",
        "        if(len(layers.get_weights())>0):\n",
        "          layers.set_weights([weights[k],weights[k+1]])\n",
        "          k+=2\n",
        "      loss, acc = model.evaluate(x_test, y_test, batch_size=batch_size)\n",
        "      new_acc.append(acc*100)\n",
        "    elif(i!=len(l1)-1):\n",
        "      weights[l1[i-1]]/=scalars[j]\n",
        "      weights[l1[i]]*=scalars[j]\n",
        "      k=0\n",
        "      for layers in model.layers:\n",
        "        if(len(layers.get_weights())>0):\n",
        "          layers.set_weights([weights[k],weights[k+1]])\n",
        "          k+=2\n",
        "      loss, acc = model.evaluate(x_test, y_test, batch_size=batch_size)\n",
        "      new_acc.append(acc*100)\n",
        "    else:\n",
        "      weights[l1[i-1]]/=scalars[j]\n",
        "      weights[l1[i]]*=scalars[j]\n",
        "      k=0\n",
        "      for layers in model.layers:\n",
        "        if(len(layers.get_weights())>0):\n",
        "          layers.set_weights([weights[k],weights[k+1]])\n",
        "          k+=2\n",
        "      loss, acc = model.evaluate(x_test, y_test, batch_size=batch_size)\n",
        "      new_acc.append(acc*100)\n",
        "      weights[l1[i]]/=scalars[j]\n",
        "\n",
        "    \n",
        "\n"
      ]
    },
    {
      "cell_type": "code",
      "execution_count": null,
      "metadata": {
        "colab": {
          "base_uri": "https://localhost:8080/"
        },
        "id": "P5jEyoWLtnRs",
        "outputId": "6918b4c8-6114-491f-934e-8b8645cb755d"
      },
      "outputs": [
        {
          "output_type": "stream",
          "name": "stdout",
          "text": [
            "[50.16999840736389, 50.73999762535095, 51.15000009536743, 51.39999985694885, 50.679999589920044, 50.90000033378601, 51.20999813079834, 51.34999752044678, 50.849997997283936, 51.169997453689575, 51.249998807907104, 51.41000151634216, 51.08000040054321, 51.190000772476196, 51.35999917984009, 51.330000162124634, 51.10999941825867, 51.31000280380249, 51.169997453689575, 51.23000144958496, 50.73000192642212, 50.999999046325684, 51.20000243186951, 51.179999113082886, 50.59000253677368, 50.73000192642212, 51.179999113082886, 51.179999113082886, 50.31999945640564, 50.6600022315979, 51.0699987411499, 51.15000009536743, 50.23999810218811, 50.599998235702515, 51.02999806404114, 51.13000273704529]\n",
            "9\n"
          ]
        }
      ],
      "source": [
        "print((new_acc))\n",
        "print(len(scalars))"
      ]
    },
    {
      "cell_type": "markdown",
      "source": [
        "## 5.6 Plotting graph for each layer for each scalar multiplied vs accuracy "
      ],
      "metadata": {
        "id": "1gJMj9W3r46a"
      }
    },
    {
      "cell_type": "code",
      "execution_count": null,
      "metadata": {
        "colab": {
          "base_uri": "https://localhost:8080/",
          "height": 472
        },
        "id": "JQJ4xLnkAMF0",
        "outputId": "98beb236-1320-4fe5-d3c3-d029e9bcd3fa"
      },
      "outputs": [
        {
          "output_type": "display_data",
          "data": {
            "text/plain": [
              "<Figure size 640x480 with 1 Axes>"
            ],
            "image/png": "[encoded data removed]"
          },
          "metadata": {}
        }
      ],
      "source": [
        "new_accs=[]\n",
        "for i in range(num_layers):\n",
        "  l2=[]\n",
        "  for j in range(len(scalars)):\n",
        "    l2.append(new_acc[num_layers*j+i])\n",
        "  new_accs.append(l2)\n",
        "for i in range(len(new_accs)):\n",
        "  plt.plot(scalars, new_accs[i], label=f'layer {i+1}')\n",
        "plt.xlabel('Scalar')\n",
        "plt.ylabel('Accuracy')\n",
        "plt.title('Effect on accuracy when weights are multiplied by scalers')\n",
        "plt.legend()\n",
        "plt.show()\n"
      ]
    },
    {
      "cell_type": "markdown",
      "source": [
        "## 5.7 Checking which layer is least and most sensitive to these changes and the average accuracy loss for each layers across all weights change "
      ],
      "metadata": {
        "id": "nRYlVVrOwDrz"
      }
    },
    {
      "cell_type": "code",
      "execution_count": null,
      "metadata": {
        "id": "XxVe_0nLu8ny"
      },
      "outputs": [],
      "source": [
        "for i in range(num_layers):\n",
        "  for j in range(len(scalars)):\n",
        "    new_accs[i][j]=abs(new_accs[i][j]-max_acc*100)"
      ]
    },
    {
      "cell_type": "code",
      "execution_count": null,
      "metadata": {
        "colab": {
          "base_uri": "https://localhost:8080/"
        },
        "id": "0KAr7iSpvKFl",
        "outputId": "c4adfe6c-d5ca-44e3-d3ae-fb12e304048d"
      },
      "outputs": [
        {
          "output_type": "stream",
          "name": "stdout",
          "text": [
            "9\n",
            "9\n",
            "9\n",
            "9\n"
          ]
        }
      ],
      "source": [
        "Average_loss_accs=[]\n",
        "for i in range(num_layers):\n",
        "  print(len(new_accs[i]))\n",
        "  Average_loss_accs.append(sum(new_accs[i])/len(scalars))"
      ]
    },
    {
      "cell_type": "code",
      "execution_count": null,
      "metadata": {
        "colab": {
          "base_uri": "https://localhost:8080/"
        },
        "id": "WIXsP9imva9K",
        "outputId": "8390b178-c1fc-4881-cee5-101823a1a5f5"
      },
      "outputs": [
        {
          "output_type": "stream",
          "name": "stdout",
          "text": [
            "[0.5488899019029405, 0.294445620642768, 0.06777842839558919, 0.09888874159918891]\n"
          ]
        }
      ],
      "source": [
        "print(Average_loss_accs)"
      ]
    },
    {
      "cell_type": "code",
      "source": [
        "print(sum(Average_loss_accs)/num_layers)"
      ],
      "metadata": {
        "colab": {
          "base_uri": "https://localhost:8080/"
        },
        "id": "OFKFSNDwmHEz",
        "outputId": "5fcf29d2-9e8b-4e56-9018-540dfb616db8"
      },
      "execution_count": null,
      "outputs": [
        {
          "output_type": "stream",
          "name": "stdout",
          "text": [
            "0.25250067313512164\n"
          ]
        }
      ]
    },
    {
      "cell_type": "code",
      "execution_count": null,
      "metadata": {
        "colab": {
          "base_uri": "https://localhost:8080/"
        },
        "id": "E6RxmCmduj8y",
        "outputId": "ca15099a-e4fb-4381-94b4-f1f2d4a3b66c"
      },
      "outputs": [
        {
          "output_type": "stream",
          "name": "stdout",
          "text": [
            "The layer least sensitive to the changes is : 3\n",
            "The layer most sensitive to the changes is : 1\n"
          ]
        }
      ],
      "source": [
        "maxi=100000\n",
        "mini=-10000\n",
        "layer=-1\n",
        "layer2=-1\n",
        "for i in range(num_layers):\n",
        "  if(maxi>Average_loss_accs[i]):\n",
        "    maxi=Average_loss_accs[i]\n",
        "    layer=i+1\n",
        "  if(mini<Average_loss_accs[i]):\n",
        "    mini=Average_loss_accs[i]\n",
        "    layer2=i+1\n",
        "print(\"The layer least sensitive to the changes is :\" , layer)\n",
        "print(\"The layer most sensitive to the changes is :\" , layer2)"
      ]
    },
    {
      "cell_type": "markdown",
      "source": [
        "## 5.7 Defining scalars and changing weights of every layer by adding those scalars one by one"
      ],
      "metadata": {
        "id": "14KcXLaGvtYD"
      }
    },
    {
      "cell_type": "code",
      "execution_count": null,
      "metadata": {
        "id": "ar_no1pg1nFc"
      },
      "outputs": [],
      "source": [
        "scalars1=[0.01,0.02,0.015,0.025,0.03,0.035,0.04,0.045,0.05]\n",
        "new_acc1=[]\n",
        "acc_change=[]"
      ]
    },
    {
      "cell_type": "code",
      "execution_count": null,
      "metadata": {
        "colab": {
          "base_uri": "https://localhost:8080/"
        },
        "id": "sDBCz12YZtIO",
        "outputId": "43d9615a-88c2-4189-b8ca-12a4ad352fe9"
      },
      "outputs": [
        {
          "output_type": "stream",
          "name": "stdout",
          "text": [
            "4\n",
            "313/313 [==============================] - 13s 43ms/step - loss: 60266.3242 - accuracy: 0.1000\n",
            "313/313 [==============================] - 14s 46ms/step - loss: 16771821.0000 - accuracy: 0.1000\n",
            "313/313 [==============================] - 13s 43ms/step - loss: 3473264.2500 - accuracy: 0.1000\n",
            "313/313 [==============================] - 13s 42ms/step - loss: 30131.8691 - accuracy: 0.1000\n",
            "313/313 [==============================] - 13s 43ms/step - loss: 62275.2773 - accuracy: 0.1000\n",
            "313/313 [==============================] - 13s 43ms/step - loss: 17886520.0000 - accuracy: 0.1000\n",
            "313/313 [==============================] - 16s 50ms/step - loss: 3705045.7500 - accuracy: 0.1000\n",
            "313/313 [==============================] - 13s 40ms/step - loss: 30131.8750 - accuracy: 0.1000\n",
            "313/313 [==============================] - 13s 41ms/step - loss: 64284.2383 - accuracy: 0.1000\n",
            "313/313 [==============================] - 13s 42ms/step - loss: 19001244.0000 - accuracy: 0.1000\n",
            "313/313 [==============================] - 13s 43ms/step - loss: 3936826.5000 - accuracy: 0.1000\n",
            "313/313 [==============================] - 13s 43ms/step - loss: 30131.8691 - accuracy: 0.1000\n",
            "313/313 [==============================] - 13s 42ms/step - loss: 66293.2031 - accuracy: 0.1000\n",
            "313/313 [==============================] - 13s 43ms/step - loss: 20115948.0000 - accuracy: 0.1000\n",
            "313/313 [==============================] - 14s 45ms/step - loss: 4168609.7500 - accuracy: 0.1000\n",
            "313/313 [==============================] - 13s 42ms/step - loss: 30131.8809 - accuracy: 0.1000\n",
            "313/313 [==============================] - 14s 44ms/step - loss: 74329.0312 - accuracy: 0.1000\n",
            "313/313 [==============================] - 14s 45ms/step - loss: 24574796.0000 - accuracy: 0.1000\n",
            "313/313 [==============================] - 14s 44ms/step - loss: 5095731.0000 - accuracy: 0.1000\n",
            "313/313 [==============================] - 13s 43ms/step - loss: 30131.9043 - accuracy: 0.1000\n",
            "313/313 [==============================] - 13s 43ms/step - loss: 80355.9609 - accuracy: 0.1000\n",
            "313/313 [==============================] - 14s 43ms/step - loss: 27918912.0000 - accuracy: 0.1000\n",
            "313/313 [==============================] - 13s 40ms/step - loss: 5791074.5000 - accuracy: 0.1000\n",
            "313/313 [==============================] - 13s 40ms/step - loss: 30131.8906 - accuracy: 0.1000\n",
            "313/313 [==============================] - 15s 49ms/step - loss: 82364.8672 - accuracy: 0.1000\n",
            "313/313 [==============================] - 13s 40ms/step - loss: 29033644.0000 - accuracy: 0.1000\n",
            "313/313 [==============================] - 13s 41ms/step - loss: 6022854.0000 - accuracy: 0.1000\n",
            "313/313 [==============================] - 13s 42ms/step - loss: 30131.8887 - accuracy: 0.1000\n",
            "313/313 [==============================] - 13s 43ms/step - loss: 84373.8594 - accuracy: 0.1000\n",
            "313/313 [==============================] - 13s 43ms/step - loss: 30148352.0000 - accuracy: 0.1000\n",
            "313/313 [==============================] - 13s 42ms/step - loss: 6254638.5000 - accuracy: 0.1000\n",
            "313/313 [==============================] - 13s 43ms/step - loss: 30131.8945 - accuracy: 0.1000\n",
            "313/313 [==============================] - 13s 43ms/step - loss: 86382.7656 - accuracy: 0.1000\n",
            "313/313 [==============================] - 13s 42ms/step - loss: 31263058.0000 - accuracy: 0.1000\n",
            "313/313 [==============================] - 13s 43ms/step - loss: 6486416.0000 - accuracy: 0.1000\n",
            "313/313 [==============================] - 15s 49ms/step - loss: 30131.9004 - accuracy: 0.1000\n"
          ]
        }
      ],
      "source": [
        "l1=[2*i for i in range(num_layers)]\n",
        "print(len(l1))\n",
        "for j in range(len(scalars1)):\n",
        "  for i in range(len(l1)):\n",
        "    if(i==0):\n",
        "      weights[l1[i]]+=scalars1[j]\n",
        "      k=0\n",
        "      for layers in model.layers:\n",
        "        if(len(layers.get_weights())>0):\n",
        "          layers.set_weights([weights[k],weights[k+1]])\n",
        "          k+=2\n",
        "      loss, acc = model.evaluate(x_test, y_test, batch_size=batch_size)\n",
        "      new_acc1.append(acc*100)\n",
        "    elif(i!=len(l1)-1):\n",
        "      weights[l1[i-1]]-=scalars1[j]\n",
        "      weights[l1[i]]+=scalars1[j]\n",
        "      k=0\n",
        "      for layers in model.layers:\n",
        "        if(len(layers.get_weights())>0):\n",
        "          layers.set_weights([weights[k],weights[k+1]])\n",
        "          k+=2\n",
        "      loss, acc = model.evaluate(x_test, y_test, batch_size=batch_size)\n",
        "      new_acc1.append(acc*100)\n",
        "    else:\n",
        "      weights[l1[i-1]]-=scalars1[j]\n",
        "      weights[l1[i]]+=scalars1[j]\n",
        "      k=0\n",
        "      for layers in model.layers:\n",
        "        if(len(layers.get_weights())>0):\n",
        "          layers.set_weights([weights[k],weights[k+1]])\n",
        "          k+=2\n",
        "      loss, acc = model.evaluate(x_test, y_test, batch_size=batch_size)\n",
        "      new_acc1.append(acc*100)\n",
        "      weights[l1[i]]-=scalars1[j]"
      ]
    },
    {
      "cell_type": "markdown",
      "source": [
        "## 5.8 Plotting graph for each layer for each scalar added vs accuracy "
      ],
      "metadata": {
        "id": "WKGO9zFdv3h8"
      }
    },
    {
      "cell_type": "code",
      "execution_count": null,
      "metadata": {
        "colab": {
          "base_uri": "https://localhost:8080/",
          "height": 472
        },
        "id": "gWo7CwK0Z67b",
        "outputId": "8792c571-bcad-428b-ee12-d8bf0178a784"
      },
      "outputs": [
        {
          "output_type": "display_data",
          "data": {
            "text/plain": [
              "<Figure size 640x480 with 1 Axes>"
            ],
            "image/png": "[encoded data removed]"
          },
          "metadata": {}
        }
      ],
      "source": [
        "new_accs1=[]\n",
        "for i in range(num_layers):\n",
        "  l2=[]\n",
        "  for j in range(len(scalars1)):\n",
        "    l2.append(new_acc1[num_layers*j+i])\n",
        "  new_accs1.append(l2)\n",
        "for i in range(len(new_accs1)):\n",
        "  plt.plot(scalars, new_accs1[i], label=f'layer {i+1}')\n",
        "plt.xlabel('Scalar')\n",
        "plt.ylabel('Accuracy')\n",
        "plt.title('Effect on accuracy when weights are added by scalers')\n",
        "plt.legend()\n",
        "plt.show()"
      ]
    },
    {
      "cell_type": "markdown",
      "source": [
        "## 5.9 Checking which layer is least and most sensitive to these changes and the average accuracy loss for each layers across all weights change    "
      ],
      "metadata": {
        "id": "WG44vwuGxhGy"
      }
    },
    {
      "cell_type": "code",
      "execution_count": null,
      "metadata": {
        "id": "spEAFLmdaFoB"
      },
      "outputs": [],
      "source": [
        "for i in range(num_layers):\n",
        "  for j in range(len(scalars)):\n",
        "    new_accs1[i][j]=abs(new_accs1[i][j]-max_acc*100)"
      ]
    },
    {
      "cell_type": "code",
      "source": [
        "Average_loss_accs=[]\n",
        "for i in range(num_layers):\n",
        "  print(len(new_accs1[i]))\n",
        "  Average_loss_accs.append(sum(new_accs1[i])/len(scalars1))"
      ],
      "metadata": {
        "colab": {
          "base_uri": "https://localhost:8080/"
        },
        "id": "BlbLd02KvOjk",
        "outputId": "8356a8d5-1a1a-4df2-b8e3-8547907586c0"
      },
      "execution_count": null,
      "outputs": [
        {
          "output_type": "stream",
          "name": "stdout",
          "text": [
            "9\n",
            "9\n",
            "9\n",
            "9\n"
          ]
        }
      ]
    },
    {
      "cell_type": "code",
      "source": [
        "print(Average_loss_accs)\n",
        "print(sum(Average_loss_accs)/num_layers)"
      ],
      "metadata": {
        "colab": {
          "base_uri": "https://localhost:8080/"
        },
        "id": "BDGeqYlyvQQl",
        "outputId": "957f7a67-af75-4173-c67b-98b869ad1718"
      },
      "execution_count": null,
      "outputs": [
        {
          "output_type": "stream",
          "name": "stdout",
          "text": [
            "[41.190000623464584, 41.190000623464584, 41.190000623464584, 0.0]\n",
            "30.89250046759844\n"
          ]
        }
      ]
    },
    {
      "cell_type": "code",
      "execution_count": null,
      "metadata": {
        "id": "88IXWVM_afs7",
        "colab": {
          "base_uri": "https://localhost:8080/"
        },
        "outputId": "99f552a8-019b-4a52-890b-18fe3e2612a7"
      },
      "outputs": [
        {
          "output_type": "stream",
          "name": "stdout",
          "text": [
            "The layer least sensitive to the changes is : 4\n",
            "The layer most sensitive to the changes is : 1\n"
          ]
        }
      ],
      "source": [
        "maxi=100000\n",
        "mini=-10000\n",
        "layer=-1\n",
        "layer2=-1\n",
        "for i in range(num_layers):\n",
        "  if(maxi>Average_loss_accs[i]):\n",
        "    maxi=Average_loss_accs[i]\n",
        "    layer=i+1\n",
        "  if(mini<Average_loss_accs[i]):\n",
        "    mini=Average_loss_accs[i]\n",
        "    layer2=i+1\n",
        "print(\"The layer least sensitive to the changes is :\" , layer)\n",
        "print(\"The layer most sensitive to the changes is :\" , layer2)"
      ]
    },
    {
      "cell_type": "markdown",
      "source": [
        "## 5.10 Changing weights of by random bit flipping method\n",
        "From each layer some random weights are selected and theirs bits are flipped and accuracy is claculated . Same process is done for every layer ."
      ],
      "metadata": {
        "id": "3K1m-YS8yLKq"
      }
    },
    {
      "cell_type": "code",
      "source": [
        "import struct \n",
        "import random"
      ],
      "metadata": {
        "id": "rx4qO8gI52yw"
      },
      "execution_count": null,
      "outputs": []
    },
    {
      "cell_type": "code",
      "source": [
        "scalars2=[60,80,100,120,140]\n",
        "new_acc2=[]\n"
      ],
      "metadata": {
        "id": "EO92_Wr94IcX"
      },
      "execution_count": null,
      "outputs": []
    },
    {
      "cell_type": "code",
      "source": [
        "l1=[2*i for i in range(num_layers)]\n",
        "for j in range(len(scalars2)):\n",
        "  accuracies=[]\n",
        "  for i in range(len(l1)):\n",
        "    for p in range(scalars2[j]):\n",
        "      k=random.randint(0,len(weights[l1[i]])-1)\n",
        "      idx=random.randint(0,len(weights[l1[i]][k])-1)\n",
        "      r_weight = weights[l1[i]][k][idx]\n",
        "      r_weight = format(struct.unpack('!I', struct.pack('!f', r_weight))[0], '032b')\n",
        "      r_bit_index = random.randint(0,31)\n",
        "      r_bit = r_weight[r_bit_index]\n",
        "      \n",
        "      if(r_bit == '0'):\n",
        "        r_weight = r_weight[:r_bit_index] + '1' + r_weight[r_bit_index + 1:]\n",
        "      if(r_bit == '1'):\n",
        "        r_weight = r_weight[:r_bit_index] + '0' + r_weight[r_bit_index + 1:]\n",
        "      r_weight = struct.unpack('!f',struct.pack('!I', int(r_weight, 2)))[0]\n",
        "      weights[l1[i]][k][idx]=r_weight\n",
        "    model.set_weights(weights)\n",
        "    print(\"layer \", i+1)\n",
        "    print(\"no of weights changed: \",j+1)\n",
        "    loss, acc = model.evaluate(x_test, y_test, batch_size=batch_size)\n",
        "    print(\"test accuracy {}\".format(acc))\n",
        "    accuracies.append(acc*100)\n",
        "    print(\"\\n\")\n",
        "    weights=original_weights\n",
        "  new_acc2.append(accuracies)\n",
        "  \n",
        "\n",
        "\n",
        "    "
      ],
      "metadata": {
        "id": "ZI646oK-yUp4"
      },
      "execution_count": null,
      "outputs": []
    },
    {
      "cell_type": "markdown",
      "source": [
        "## 5.11 Plotting graph for each layer for number of weights changed vs accuracy "
      ],
      "metadata": {
        "id": "seYKfRDon1Id"
      }
    },
    {
      "cell_type": "code",
      "source": [
        "acc_graph=[]\n",
        "for j in range(len(new_acc2[0])):\n",
        "  a=[]\n",
        "  for i in range(len(new_acc2)):\n",
        "    a.append(new_acc2[i][j])\n",
        "  acc_graph.append(a)"
      ],
      "metadata": {
        "id": "ai2RzBWtsvMo"
      },
      "execution_count": null,
      "outputs": []
    },
    {
      "cell_type": "code",
      "source": [
        "for i in range(len(acc_graph)):\n",
        "  plt.plot(scalars2, acc_graph[i], label=f'layer {i+1}')\n",
        "plt.xlabel('Number of weights changed')\n",
        "plt.ylabel('Accuracy')\n",
        "plt.title('Effect on accuracy when weights are changed by bit-flip')\n",
        "plt.legend()\n",
        "plt.show()"
      ],
      "metadata": {
        "id": "2N2XDaO7mDes"
      },
      "execution_count": null,
      "outputs": []
    },
    {
      "cell_type": "markdown",
      "source": [
        "## 5.9 Checking which layer is least and most sensitive to these changes and the average accuracy loss for each layers across all weights change   "
      ],
      "metadata": {
        "id": "QpuWiL-noBHr"
      }
    },
    {
      "cell_type": "code",
      "source": [
        "average=[]\n",
        "for i in acc_graph:\n",
        "  average.append(sum(i)/len(i))\n",
        "print(average)"
      ],
      "metadata": {
        "id": "CecWy7mVoDhb"
      },
      "execution_count": null,
      "outputs": []
    },
    {
      "cell_type": "code",
      "source": [
        "maxi=100000\n",
        "mini=-10000\n",
        "layer=-1\n",
        "layer2=-1\n",
        "for i in range(num_layers):\n",
        "  if(maxi>average[i]):\n",
        "    maxi=average[i]\n",
        "    layer=i+1\n",
        "  if(mini<average[i]):\n",
        "    mini=average[i]\n",
        "    layer2=i+1\n",
        "print(\"The layer least sensitive to the changes is :\" , layer)\n",
        "print(\"The layer most sensitive to the changes is :\" , layer2)"
      ],
      "metadata": {
        "id": "8YHQlTeVobb5"
      },
      "execution_count": null,
      "outputs": []
    }
  ],
  "metadata": {
    "colab": {
      "provenance": []
    },
    "kernelspec": {
      "display_name": "Python 3",
      "language": "python",
      "name": "python3"
    },
    "language_info": {
      "codemirror_mode": {
        "name": "ipython",
        "version": 3
      },
      "file_extension": ".py",
      "mimetype": "text/x-python",
      "name": "python",
      "nbconvert_exporter": "python",
      "pygments_lexer": "ipython3",
      "version": "3.6.6"
    }
  },
  "nbformat": 4,
  "nbformat_minor": 0
}