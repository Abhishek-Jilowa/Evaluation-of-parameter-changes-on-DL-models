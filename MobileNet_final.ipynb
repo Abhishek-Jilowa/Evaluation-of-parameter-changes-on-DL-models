{
  "nbformat": 4,
  "nbformat_minor": 0,
  "metadata": {
    "colab": {
      "provenance": []
    },
    "kernelspec": {
      "name": "python3",
      "display_name": "Python 3"
    },
    "accelerator": "GPU"
  },
  "cells": [
    {
      "cell_type": "markdown",
      "source": [
        "# Importing the necessary libraries"
      ],
      "metadata": {
        "id": "QYvpRha7zjdF"
      }
    },
    {
      "cell_type": "code",
      "source": [
        "import numpy as np \n",
        "import pandas as pd \n",
        "import tensorflow as tf\n",
        "from tensorflow import keras\n",
        "import matplotlib.pyplot as plt\n",
        "import os\n",
        "\n",
        "from keras.preprocessing import image\n",
        "from keras.models import Model\n",
        "from keras.applications import imagenet_utils\n",
        "from keras.layers import Dense,GlobalAveragePooling2D\n",
        "from keras.applications.mobilenet import MobileNet\n",
        "\n",
        "import tensorflow.keras\n",
        "import tensorflow as tf\n",
        "from tensorflow.keras.models import Sequential\n",
        "from keras import optimizers\n",
        "from keras.layers import Resizing\n",
        "from tensorflow.keras.layers import Dense, Activation, Dropout, Flatten,Conv2D, MaxPooling2D,BatchNormalization,LayerNormalization"
      ],
      "metadata": {
        "id": "-32frybF02uC"
      },
      "execution_count": 41,
      "outputs": []
    },
    {
      "cell_type": "code",
      "source": [
        "# Loading the Dataset and getting size of it\n",
        "(x_train, y_train), (x_test, y_test) = keras.datasets.cifar10.load_data()\n",
        "print(\"Size of the train images\", x_train.shape)\n",
        "print(\"Size of the test images\", x_test.shape)"
      ],
      "metadata": {
        "colab": {
          "base_uri": "https://localhost:8080/"
        },
        "id": "-MqpQQQ11Cy2",
        "outputId": "a6092f4d-056c-441b-e584-9a8792d30045"
      },
      "execution_count": 42,
      "outputs": [
        {
          "output_type": "stream",
          "name": "stdout",
          "text": [
            "Size of the train images (50000, 32, 32, 3)\n",
            "Size of the test images (10000, 32, 32, 3)\n"
          ]
        }
      ]
    },
    {
      "cell_type": "code",
      "source": [
        "x_test, y_test = x_test[:5000], y_test[:5000]\n",
        "x_val, y_val = x_train[:5000], y_train[:5000]\n",
        "x_train, y_train = x_train[30000:], y_train[30000:]"
      ],
      "metadata": {
        "id": "0srNQ7_V1FlQ"
      },
      "execution_count": 43,
      "outputs": []
    },
    {
      "cell_type": "code",
      "source": [
        "print(\"Training data size: \", x_train.shape)\n",
        "print(\"Validation data size: \", x_val.shape)\n",
        "print(\"Test data size: \", x_test.shape)\n",
        "print(\"Training data Labels\", y_train.shape)\n",
        "print(\"Validation data Labels\", y_val.shape)"
      ],
      "metadata": {
        "colab": {
          "base_uri": "https://localhost:8080/"
        },
        "id": "irANWTmS3O1R",
        "outputId": "560f3b62-da33-4162-ae29-5d02b3d7e571"
      },
      "execution_count": 44,
      "outputs": [
        {
          "output_type": "stream",
          "name": "stdout",
          "text": [
            "Training data size:  (20000, 32, 32, 3)\n",
            "Validation data size:  (5000, 32, 32, 3)\n",
            "Test data size:  (5000, 32, 32, 3)\n",
            "Training data Labels (20000, 1)\n",
            "Validation data Labels (5000, 1)\n"
          ]
        }
      ]
    },
    {
      "cell_type": "markdown",
      "source": [
        "# Data preprocessing\n"
      ],
      "metadata": {
        "id": "KxPXpDIt0I62"
      }
    },
    {
      "cell_type": "code",
      "source": [
        "from keras.utils import np_utils\n",
        "\n",
        "num_classes = 10\n",
        "\n",
        "# Convert class vectors to binary class matrices.\n",
        "y_train = np_utils.to_categorical(y_train, num_classes)\n",
        "y_test = np_utils.to_categorical(y_test, num_classes)\n",
        "y_val = np_utils.to_categorical(y_val, num_classes)"
      ],
      "metadata": {
        "id": "7V149VCz1J4M"
      },
      "execution_count": 45,
      "outputs": []
    },
    {
      "cell_type": "code",
      "source": [
        "from sklearn.utils import shuffle\n",
        "\n",
        "x_val, y_val  = shuffle(x_val, y_val)\n",
        "x_train, y_train = shuffle(x_train, y_train)"
      ],
      "metadata": {
        "id": "_zqd58U61MvF"
      },
      "execution_count": 46,
      "outputs": []
    },
    {
      "cell_type": "markdown",
      "source": [
        "# MobileNet model\n"
      ],
      "metadata": {
        "id": "pOX9Ny4P05dG"
      }
    },
    {
      "cell_type": "code",
      "source": [
        "# Base model for the mobilenet model\n",
        "mobnet_model=MobileNet(weights='imagenet',include_top=False) #imports the mobilenet model and discards the last 1000 neuron layer."
      ],
      "metadata": {
        "colab": {
          "base_uri": "https://localhost:8080/"
        },
        "id": "-FEUeCGD1Qp5",
        "outputId": "9150f97d-fb18-4a50-e5df-5ce9bb83af46"
      },
      "execution_count": 47,
      "outputs": [
        {
          "output_type": "stream",
          "name": "stderr",
          "text": [
            "WARNING:tensorflow:`input_shape` is undefined or non-square, or `rows` is not in [128, 160, 192, 224]. Weights for input shape (224, 224) will be loaded as the default.\n"
          ]
        }
      ]
    },
    {
      "cell_type": "code",
      "source": [
        "image_size = (224,224)\n",
        "\n",
        "from keras import layers\n",
        "from keras import models\n",
        "\n",
        "num_classes = 10\n",
        "\n",
        "model1 = Sequential()\n",
        "keras.layers.experimental.preprocessing.Resizing(image_size[0], image_size[1], interpolation=\"bilinear\", input_shape=x_train.shape[1:]),\n",
        "           \n",
        "model1.add(mobnet_model) \n",
        "\n",
        "#hidden layers\n",
        "model1.add(GlobalAveragePooling2D())\n",
        "model1.add(Dense(1024,activation=('relu')))\n",
        "model1.add(Dense(512,activation=('relu')))  \n",
        "model1.add(Dense(512,activation=('relu'))) \n",
        "model1.add(Dense(512,activation=('relu'))) \n",
        "model1.add(Dense(256,activation=('relu'))) \n",
        "model1.add(Dropout(0.3))\n",
        "model1.add(Dense(10,activation=('softmax')))\n",
        "\n",
        "\n",
        "model1.compile(loss='categorical_crossentropy',\n",
        "              optimizer= 'Adam',\n",
        "              metrics=['acc'])\n",
        "\n",
        "# Creating the model and compiling it\n",
        "model1.compile(optimizer='Adam',loss='categorical_crossentropy',metrics=['accuracy'])\n",
        "\n",
        "# a summary of the model\n",
        "model1.summary()"
      ],
      "metadata": {
        "id": "pBNAgMMH1XkI",
        "colab": {
          "base_uri": "https://localhost:8080/"
        },
        "outputId": "14deb2c8-bac3-42b2-cdcb-bde245c129c1"
      },
      "execution_count": 48,
      "outputs": [
        {
          "output_type": "stream",
          "name": "stdout",
          "text": [
            "Model: \"sequential_1\"\n",
            "_________________________________________________________________\n",
            " Layer (type)                Output Shape              Param #   \n",
            "=================================================================\n",
            " mobilenet_1.00_224 (Functio  (None, None, None, 1024)  3228864  \n",
            " nal)                                                            \n",
            "                                                                 \n",
            " global_average_pooling2d_1   (None, 1024)             0         \n",
            " (GlobalAveragePooling2D)                                        \n",
            "                                                                 \n",
            " dense_6 (Dense)             (None, 1024)              1049600   \n",
            "                                                                 \n",
            " dense_7 (Dense)             (None, 512)               524800    \n",
            "                                                                 \n",
            " dense_8 (Dense)             (None, 512)               262656    \n",
            "                                                                 \n",
            " dense_9 (Dense)             (None, 512)               262656    \n",
            "                                                                 \n",
            " dense_10 (Dense)            (None, 256)               131328    \n",
            "                                                                 \n",
            " dropout_1 (Dropout)         (None, 256)               0         \n",
            "                                                                 \n",
            " dense_11 (Dense)            (None, 10)                2570      \n",
            "                                                                 \n",
            "=================================================================\n",
            "Total params: 5,462,474\n",
            "Trainable params: 5,440,586\n",
            "Non-trainable params: 21,888\n",
            "_________________________________________________________________\n"
          ]
        }
      ]
    },
    {
      "cell_type": "code",
      "source": [
        "history = model1.fit(x_train, y_train, batch_size = 64, epochs = 15, validation_data = (x_test, y_test))"
      ],
      "metadata": {
        "colab": {
          "base_uri": "https://localhost:8080/"
        },
        "id": "ruS7uouU1yTS",
        "outputId": "a19ce00b-0aef-4520-ee23-5443d2bcba79"
      },
      "execution_count": 49,
      "outputs": [
        {
          "output_type": "stream",
          "name": "stdout",
          "text": [
            "Epoch 1/15\n",
            "313/313 [==============================] - 27s 30ms/step - loss: 1.3528 - accuracy: 0.5447 - val_loss: 1.1364 - val_accuracy: 0.6150\n",
            "Epoch 2/15\n",
            "313/313 [==============================] - 9s 28ms/step - loss: 0.9753 - accuracy: 0.7006 - val_loss: 1.0155 - val_accuracy: 0.6832\n",
            "Epoch 3/15\n",
            "313/313 [==============================] - 9s 28ms/step - loss: 0.8393 - accuracy: 0.7419 - val_loss: 0.8446 - val_accuracy: 0.7356\n",
            "Epoch 4/15\n",
            "313/313 [==============================] - 9s 28ms/step - loss: 0.7450 - accuracy: 0.7692 - val_loss: 0.8865 - val_accuracy: 0.7354\n",
            "Epoch 5/15\n",
            "313/313 [==============================] - 9s 28ms/step - loss: 0.6651 - accuracy: 0.7954 - val_loss: 1.0105 - val_accuracy: 0.7118\n",
            "Epoch 6/15\n",
            "313/313 [==============================] - 9s 30ms/step - loss: 0.6173 - accuracy: 0.8133 - val_loss: 0.9938 - val_accuracy: 0.7212\n",
            "Epoch 7/15\n",
            "313/313 [==============================] - 9s 29ms/step - loss: 0.5767 - accuracy: 0.8299 - val_loss: 0.8936 - val_accuracy: 0.7466\n",
            "Epoch 8/15\n",
            "313/313 [==============================] - 9s 27ms/step - loss: 0.5446 - accuracy: 0.8359 - val_loss: 0.8096 - val_accuracy: 0.7464\n",
            "Epoch 9/15\n",
            "313/313 [==============================] - 9s 29ms/step - loss: 0.4608 - accuracy: 0.8615 - val_loss: 0.8078 - val_accuracy: 0.7724\n",
            "Epoch 10/15\n",
            "313/313 [==============================] - 9s 29ms/step - loss: 0.4400 - accuracy: 0.8701 - val_loss: 0.8563 - val_accuracy: 0.7554\n",
            "Epoch 11/15\n",
            "313/313 [==============================] - 9s 28ms/step - loss: 0.4014 - accuracy: 0.8788 - val_loss: 1.0636 - val_accuracy: 0.7254\n",
            "Epoch 12/15\n",
            "313/313 [==============================] - 9s 28ms/step - loss: 0.4099 - accuracy: 0.8813 - val_loss: 0.9091 - val_accuracy: 0.7462\n",
            "Epoch 13/15\n",
            "313/313 [==============================] - 9s 29ms/step - loss: 0.3610 - accuracy: 0.8956 - val_loss: 0.9966 - val_accuracy: 0.7576\n",
            "Epoch 14/15\n",
            "313/313 [==============================] - 9s 28ms/step - loss: 0.3262 - accuracy: 0.9021 - val_loss: 0.8307 - val_accuracy: 0.7772\n",
            "Epoch 15/15\n",
            "313/313 [==============================] - 8s 26ms/step - loss: 0.2899 - accuracy: 0.9168 - val_loss: 0.9928 - val_accuracy: 0.7560\n"
          ]
        }
      ]
    },
    {
      "cell_type": "code",
      "source": [
        "evaluation = model1.evaluate(x_test, y_test)\n",
        "print('Test Accuracy: {}'.format(evaluation[1]))"
      ],
      "metadata": {
        "colab": {
          "base_uri": "https://localhost:8080/"
        },
        "id": "NbX_S7Ns3rSU",
        "outputId": "beda2a16-19d6-4d04-db51-c6298ab8f84d"
      },
      "execution_count": 50,
      "outputs": [
        {
          "output_type": "stream",
          "name": "stdout",
          "text": [
            "157/157 [==============================] - 1s 7ms/step - loss: 0.9928 - accuracy: 0.7560\n",
            "Test Accuracy: 0.7559999823570251\n"
          ]
        }
      ]
    },
    {
      "cell_type": "code",
      "source": [
        "original_w = model1.get_weights()"
      ],
      "metadata": {
        "id": "12Psgfrk36Ux"
      },
      "execution_count": 51,
      "outputs": []
    },
    {
      "cell_type": "code",
      "source": [
        "model1.set_weights(original_w)\n",
        "evaluation = model1.evaluate(x_test, y_test)\n",
        "print('Test Accuracy: {}'.format(evaluation[1]))"
      ],
      "metadata": {
        "colab": {
          "base_uri": "https://localhost:8080/"
        },
        "id": "aVx_Hnc6bsrW",
        "outputId": "8eac6949-b080-485b-f160-b63c145f53b7"
      },
      "execution_count": 52,
      "outputs": [
        {
          "output_type": "stream",
          "name": "stdout",
          "text": [
            "157/157 [==============================] - 1s 7ms/step - loss: 0.9928 - accuracy: 0.7560\n",
            "Test Accuracy: 0.7559999823570251\n"
          ]
        }
      ]
    },
    {
      "cell_type": "code",
      "source": [
        "num_layers = 6"
      ],
      "metadata": {
        "id": "fDvurnkW39zL"
      },
      "execution_count": 53,
      "outputs": []
    },
    {
      "cell_type": "markdown",
      "source": [
        "# Changing of weights"
      ],
      "metadata": {
        "id": "NhixEJfD1Kyi"
      }
    },
    {
      "cell_type": "code",
      "source": [
        "accuracys=[]"
      ],
      "metadata": {
        "id": "RU6fgzIB0kbz"
      },
      "execution_count": 54,
      "outputs": []
    },
    {
      "cell_type": "code",
      "source": [
        "print(accuracys)"
      ],
      "metadata": {
        "colab": {
          "base_uri": "https://localhost:8080/"
        },
        "id": "Z7EIci6t3koS",
        "outputId": "94932fd8-bb5d-46a1-8622-b61107666dbc"
      },
      "execution_count": 55,
      "outputs": [
        {
          "output_type": "stream",
          "name": "stdout",
          "text": [
            "[]\n"
          ]
        }
      ]
    },
    {
      "cell_type": "code",
      "source": [
        "import random\n",
        "import numpy as np\n",
        "import struct\n",
        "x=num_layers - 1\n",
        "new_acc = []\n",
        "indexes = []\n",
        "weights = original_w\n",
        "for i in range(len(original_w)-2,len(original_w)-1-(2*x),-2):\n",
        "   indexes.append(i)\n",
        "l1=indexes[::-1]\n",
        "\n",
        "for i in range(len(l1)):  \n",
        "  for j in range(50):\n",
        "      k=random.randint(0,len(weights[l1[i]])-1)\n",
        "      idx=random.randint(0,len(weights[l1[i]][k])-1)\n",
        "      r_weight = weights[l1[i]][k][idx]\n",
        "      # print(r_weight)\n",
        "      r_weight = format(struct.unpack('!I', struct.pack('!f', r_weight))[0], '032b')\n",
        "      r_bit_index = random.randint(0,31)\n",
        "      r_bit = r_weight[r_bit_index]\n",
        "      \n",
        "      if(r_bit == '0'):\n",
        "        r_weight = r_weight[:r_bit_index] + '1' + r_weight[r_bit_index + 1:]\n",
        "      if(r_bit == '1'):\n",
        "        r_weight = r_weight[:r_bit_index] + '0' + r_weight[r_bit_index + 1:]\n",
        "      r_weight = struct.unpack('!f',struct.pack('!I', int(r_weight, 2)))[0]\n",
        "      # print(r_weight)\n",
        "      weights[l1[i]][k][idx]=r_weight\n",
        "  model1.set_weights(weights)\n",
        "  print(\"layer \", i+1)\n",
        "  print(\"no of weights changed: \",j+1)\n",
        "  acc = model1.evaluate(x_test, y_test)\n",
        "  print(\"test accuracy {}\".format(acc[1]))\n",
        "  new_acc.append(acc[1]*100)\n",
        "  weights=original_w\n",
        "  model1.set_weights(original_w)\n",
        "  print(\"\\n\")\n",
        "accuracys.append(new_acc)"
      ],
      "metadata": {
        "colab": {
          "base_uri": "https://localhost:8080/"
        },
        "id": "CbfXcW3_GlFH",
        "outputId": "4b9dda72-cd5b-42df-a7b4-181a35b6c166"
      },
      "execution_count": 56,
      "outputs": [
        {
          "output_type": "stream",
          "name": "stdout",
          "text": [
            "layer  1\n",
            "no of weights changed:  50\n",
            "157/157 [==============================] - 1s 9ms/step - loss: 0.9928 - accuracy: 0.7560\n",
            "test accuracy 0.7559999823570251\n",
            "\n",
            "\n",
            "layer  2\n",
            "no of weights changed:  50\n",
            "157/157 [==============================] - 1s 7ms/step - loss: inf - accuracy: 0.6112\n",
            "test accuracy 0.6111999750137329\n",
            "\n",
            "\n",
            "layer  3\n",
            "no of weights changed:  50\n",
            "157/157 [==============================] - 1s 6ms/step - loss: inf - accuracy: 0.6112\n",
            "test accuracy 0.6111999750137329\n",
            "\n",
            "\n",
            "layer  4\n",
            "no of weights changed:  50\n",
            "157/157 [==============================] - 1s 6ms/step - loss: inf - accuracy: 0.6112\n",
            "test accuracy 0.6111999750137329\n",
            "\n",
            "\n",
            "layer  5\n",
            "no of weights changed:  50\n",
            "157/157 [==============================] - 1s 6ms/step - loss: inf - accuracy: 0.6122\n",
            "test accuracy 0.6122000217437744\n",
            "\n",
            "\n"
          ]
        }
      ]
    },
    {
      "cell_type": "code",
      "source": [
        "acc_graph=[]\n",
        "for j in range(len(accuracys[0])):\n",
        "  a=[]\n",
        "  for i in range(len(accuracys)):\n",
        "    a.append(accuracys[i][j])\n",
        "  acc_graph.append(a)"
      ],
      "metadata": {
        "id": "d10GaLrfZ2c0"
      },
      "execution_count": null,
      "outputs": []
    },
    {
      "cell_type": "code",
      "source": [
        "import matplotlib.pyplot as plt"
      ],
      "metadata": {
        "id": "DVd_P47iO0e_"
      },
      "execution_count": 58,
      "outputs": []
    },
    {
      "cell_type": "code",
      "source": [
        "numberofweightchange=[50,75,100,125,150]\n",
        "for i in range(len(acc_graph)):\n",
        "  plt.plot(numberofweightchange, acc_graph[i], label=f'layer {len(acc_graph)-i-1}')\n",
        "plt.xlabel('Number of weights changed')\n",
        "plt.ylabel('Accuracy')\n",
        "plt.title('Effect on accuracy when weights are changed by bit-flip')\n",
        "plt.legend()\n",
        "plt.show()"
      ],
      "metadata": {
        "id": "cql-9LaiBSo1"
      },
      "execution_count": null,
      "outputs": []
    },
    {
      "cell_type": "code",
      "source": [
        "average=[]\n",
        "for i in acc_graph:\n",
        "  average.append(sum(i)/len(i))\n",
        "print(average)"
      ],
      "metadata": {
        "id": "aTqpF7rZL97q"
      },
      "execution_count": null,
      "outputs": []
    },
    {
      "cell_type": "code",
      "source": [
        "#changing the weights by multiplying with scalars\n",
        "\n",
        "accuracys=[]\n",
        "x=num_layers-1\n",
        "for i in range(len(original_w)-2,len(original_w)-1-(2*x),-2):\n",
        "  accuracy=[]\n",
        "  print(\"Layer :\",x)\n",
        "  for scalar in [.25, 0.4, 0.6, 0.85, 0.96,1, 1.1,1.25,1.5,1.75,2.]:\n",
        "    new_w=[]\n",
        "    for w in range(len(original_w)):\n",
        "      if(w==i):\n",
        "        new_w.append(original_w[w]*scalar)\n",
        "      else:\n",
        "        new_w.append(original_w[w])\n",
        "    model1.set_weights(new_w)\n",
        "    evaluation = model1.evaluate(x_test, y_test)\n",
        "    print(\"Scalar {} --> test accuracy {}\".format(scalar,evaluation[1]))\n",
        "    accuracy.append(evaluation[1])\n",
        "    model1.set_weights(original_w)\n",
        "  x-=1\n",
        "  model1.set_weights(original_w)\n",
        "  accuracys.append(accuracy)"
      ],
      "metadata": {
        "id": "-HM6Zyac4Aqp",
        "colab": {
          "base_uri": "https://localhost:8080/"
        },
        "outputId": "560ccf8b-6727-49a9-9d60-4c574d40babc"
      },
      "execution_count": 60,
      "outputs": [
        {
          "output_type": "stream",
          "name": "stdout",
          "text": [
            "Layer : 5\n",
            "157/157 [==============================] - 1s 7ms/step - loss: inf - accuracy: 0.6100\n",
            "Scalar 0.25 --> test accuracy 0.6100000143051147\n",
            "157/157 [==============================] - 1s 7ms/step - loss: inf - accuracy: 0.6108\n",
            "Scalar 0.4 --> test accuracy 0.61080002784729\n",
            "157/157 [==============================] - 1s 7ms/step - loss: inf - accuracy: 0.6112\n",
            "Scalar 0.6 --> test accuracy 0.6111999750137329\n",
            "157/157 [==============================] - 1s 7ms/step - loss: inf - accuracy: 0.6122\n",
            "Scalar 0.85 --> test accuracy 0.6122000217437744\n",
            "157/157 [==============================] - 1s 9ms/step - loss: inf - accuracy: 0.6122\n",
            "Scalar 0.96 --> test accuracy 0.6122000217437744\n",
            "157/157 [==============================] - 1s 7ms/step - loss: inf - accuracy: 0.6122\n",
            "Scalar 1 --> test accuracy 0.6122000217437744\n",
            "157/157 [==============================] - 1s 7ms/step - loss: inf - accuracy: 0.6124\n",
            "Scalar 1.1 --> test accuracy 0.6123999953269958\n",
            "157/157 [==============================] - 2s 11ms/step - loss: inf - accuracy: 0.6124\n",
            "Scalar 1.25 --> test accuracy 0.6123999953269958\n",
            "157/157 [==============================] - 1s 7ms/step - loss: inf - accuracy: 0.6128\n",
            "Scalar 1.5 --> test accuracy 0.6128000020980835\n",
            "157/157 [==============================] - 1s 7ms/step - loss: inf - accuracy: 0.6126\n",
            "Scalar 1.75 --> test accuracy 0.6126000285148621\n",
            "157/157 [==============================] - 1s 7ms/step - loss: inf - accuracy: 0.6126\n",
            "Scalar 2.0 --> test accuracy 0.6126000285148621\n",
            "Layer : 4\n",
            "157/157 [==============================] - 1s 7ms/step - loss: inf - accuracy: 0.6084\n",
            "Scalar 0.25 --> test accuracy 0.6083999872207642\n",
            "157/157 [==============================] - 1s 9ms/step - loss: inf - accuracy: 0.6108\n",
            "Scalar 0.4 --> test accuracy 0.61080002784729\n",
            "157/157 [==============================] - 1s 7ms/step - loss: inf - accuracy: 0.6114\n",
            "Scalar 0.6 --> test accuracy 0.6114000082015991\n",
            "157/157 [==============================] - 1s 6ms/step - loss: inf - accuracy: 0.6116\n",
            "Scalar 0.85 --> test accuracy 0.6115999817848206\n",
            "157/157 [==============================] - 1s 6ms/step - loss: inf - accuracy: 0.6122\n",
            "Scalar 0.96 --> test accuracy 0.6122000217437744\n",
            "157/157 [==============================] - 1s 6ms/step - loss: inf - accuracy: 0.6122\n",
            "Scalar 1 --> test accuracy 0.6122000217437744\n",
            "157/157 [==============================] - 1s 6ms/step - loss: inf - accuracy: 0.6126\n",
            "Scalar 1.1 --> test accuracy 0.6126000285148621\n",
            "157/157 [==============================] - 1s 6ms/step - loss: inf - accuracy: 0.6126\n",
            "Scalar 1.25 --> test accuracy 0.6126000285148621\n",
            "157/157 [==============================] - 1s 6ms/step - loss: inf - accuracy: 0.6128\n",
            "Scalar 1.5 --> test accuracy 0.6128000020980835\n",
            "157/157 [==============================] - 1s 8ms/step - loss: inf - accuracy: 0.6132\n",
            "Scalar 1.75 --> test accuracy 0.6132000088691711\n",
            "157/157 [==============================] - 1s 9ms/step - loss: inf - accuracy: 0.6132\n",
            "Scalar 2.0 --> test accuracy 0.6132000088691711\n",
            "Layer : 3\n",
            "157/157 [==============================] - 1s 7ms/step - loss: inf - accuracy: 0.6072\n",
            "Scalar 0.25 --> test accuracy 0.607200026512146\n",
            "157/157 [==============================] - 1s 6ms/step - loss: inf - accuracy: 0.6104\n",
            "Scalar 0.4 --> test accuracy 0.6104000210762024\n",
            "157/157 [==============================] - 1s 6ms/step - loss: inf - accuracy: 0.6108\n",
            "Scalar 0.6 --> test accuracy 0.61080002784729\n",
            "157/157 [==============================] - 1s 6ms/step - loss: inf - accuracy: 0.6118\n",
            "Scalar 0.85 --> test accuracy 0.6118000149726868\n",
            "157/157 [==============================] - 1s 6ms/step - loss: inf - accuracy: 0.6122\n",
            "Scalar 0.96 --> test accuracy 0.6122000217437744\n",
            "157/157 [==============================] - 1s 6ms/step - loss: inf - accuracy: 0.6122\n",
            "Scalar 1 --> test accuracy 0.6122000217437744\n",
            "157/157 [==============================] - 1s 7ms/step - loss: inf - accuracy: 0.6128\n",
            "Scalar 1.1 --> test accuracy 0.6128000020980835\n",
            "157/157 [==============================] - 1s 8ms/step - loss: inf - accuracy: 0.6128\n",
            "Scalar 1.25 --> test accuracy 0.6128000020980835\n",
            "157/157 [==============================] - 1s 6ms/step - loss: inf - accuracy: 0.6130\n",
            "Scalar 1.5 --> test accuracy 0.6129999756813049\n",
            "157/157 [==============================] - 1s 6ms/step - loss: inf - accuracy: 0.6138\n",
            "Scalar 1.75 --> test accuracy 0.6137999892234802\n",
            "157/157 [==============================] - 1s 6ms/step - loss: inf - accuracy: 0.6138\n",
            "Scalar 2.0 --> test accuracy 0.6137999892234802\n",
            "Layer : 2\n",
            "157/157 [==============================] - 1s 7ms/step - loss: inf - accuracy: 0.6088\n",
            "Scalar 0.25 --> test accuracy 0.6087999939918518\n",
            "157/157 [==============================] - 1s 6ms/step - loss: inf - accuracy: 0.6110\n",
            "Scalar 0.4 --> test accuracy 0.6110000014305115\n",
            "157/157 [==============================] - 1s 6ms/step - loss: inf - accuracy: 0.6116\n",
            "Scalar 0.6 --> test accuracy 0.6115999817848206\n",
            "157/157 [==============================] - 1s 6ms/step - loss: inf - accuracy: 0.6118\n",
            "Scalar 0.85 --> test accuracy 0.6118000149726868\n",
            "157/157 [==============================] - 1s 7ms/step - loss: inf - accuracy: 0.6122\n",
            "Scalar 0.96 --> test accuracy 0.6122000217437744\n",
            "157/157 [==============================] - 1s 9ms/step - loss: inf - accuracy: 0.6122\n",
            "Scalar 1 --> test accuracy 0.6122000217437744\n",
            "157/157 [==============================] - 1s 7ms/step - loss: inf - accuracy: 0.6128\n",
            "Scalar 1.1 --> test accuracy 0.6128000020980835\n",
            "157/157 [==============================] - 1s 6ms/step - loss: inf - accuracy: 0.6128\n",
            "Scalar 1.25 --> test accuracy 0.6128000020980835\n",
            "157/157 [==============================] - 1s 6ms/step - loss: inf - accuracy: 0.6134\n",
            "Scalar 1.5 --> test accuracy 0.6133999824523926\n",
            "157/157 [==============================] - 1s 6ms/step - loss: inf - accuracy: 0.6132\n",
            "Scalar 1.75 --> test accuracy 0.6132000088691711\n",
            "157/157 [==============================] - 1s 6ms/step - loss: inf - accuracy: 0.6136\n",
            "Scalar 2.0 --> test accuracy 0.6136000156402588\n",
            "Layer : 1\n",
            "157/157 [==============================] - 1s 6ms/step - loss: inf - accuracy: 0.6046\n",
            "Scalar 0.25 --> test accuracy 0.6046000123023987\n",
            "157/157 [==============================] - 1s 7ms/step - loss: inf - accuracy: 0.6098\n",
            "Scalar 0.4 --> test accuracy 0.6097999811172485\n",
            "157/157 [==============================] - 1s 9ms/step - loss: inf - accuracy: 0.6116\n",
            "Scalar 0.6 --> test accuracy 0.6115999817848206\n",
            "157/157 [==============================] - 1s 6ms/step - loss: inf - accuracy: 0.6114\n",
            "Scalar 0.85 --> test accuracy 0.6114000082015991\n",
            "157/157 [==============================] - 1s 6ms/step - loss: inf - accuracy: 0.6120\n",
            "Scalar 0.96 --> test accuracy 0.6119999885559082\n",
            "157/157 [==============================] - 1s 6ms/step - loss: inf - accuracy: 0.6122\n",
            "Scalar 1 --> test accuracy 0.6122000217437744\n",
            "157/157 [==============================] - 1s 6ms/step - loss: inf - accuracy: 0.6128\n",
            "Scalar 1.1 --> test accuracy 0.6128000020980835\n",
            "157/157 [==============================] - 1s 6ms/step - loss: inf - accuracy: 0.6130\n",
            "Scalar 1.25 --> test accuracy 0.6129999756813049\n",
            "157/157 [==============================] - 1s 6ms/step - loss: inf - accuracy: 0.6134\n",
            "Scalar 1.5 --> test accuracy 0.6133999824523926\n",
            "157/157 [==============================] - 1s 9ms/step - loss: inf - accuracy: 0.6136\n",
            "Scalar 1.75 --> test accuracy 0.6136000156402588\n",
            "157/157 [==============================] - 1s 9ms/step - loss: inf - accuracy: 0.6138\n",
            "Scalar 2.0 --> test accuracy 0.6137999892234802\n"
          ]
        }
      ]
    },
    {
      "cell_type": "code",
      "source": [
        "#plotting the accuracies after weight changes\n",
        "\n",
        "scalars=[.25, 0.4, 0.6, 0.85, 0.96, 1, 1.1,1.25,1.5,1.75,2.]\n",
        "for i in range(len(accuracys)):\n",
        "  plt.plot(scalars, accuracys[i], label=f'layer {num_layers-i-1}')\n",
        "plt.xlabel('Scalar')\n",
        "plt.ylabel('Accuracy')\n",
        "plt.title('Effect on accuracy when weights are multiplied by scalers')\n",
        "plt.legend()\n",
        "plt.show()"
      ],
      "metadata": {
        "id": "3DQ6fZT44TxL",
        "colab": {
          "base_uri": "https://localhost:8080/",
          "height": 472
        },
        "outputId": "7ae727a8-0f4b-4713-b799-a2b69cb56149"
      },
      "execution_count": 61,
      "outputs": [
        {
          "output_type": "display_data",
          "data": {
            "text/plain": [
              "<Figure size 640x480 with 1 Axes>"
            ],
            "image/png": "[encoded data removed]"
          },
          "metadata": {}
        }
      ]
    },
    {
      "cell_type": "code",
      "source": [
        "average=[]\n",
        "for i in accuracys:\n",
        "  average.append(sum(i)/len(i))\n",
        "print(average)"
      ],
      "metadata": {
        "colab": {
          "base_uri": "https://localhost:8080/"
        },
        "id": "00MUg459eAzu",
        "outputId": "698b786f-626c-462e-d923-91d8e2e30b64"
      },
      "execution_count": 62,
      "outputs": [
        {
          "output_type": "stream",
          "name": "stdout",
          "text": [
            "[0.611945466561751, 0.6119091023098339, 0.6118909174745734, 0.612127276984128, 0.6116545417092063]\n"
          ]
        }
      ]
    },
    {
      "cell_type": "code",
      "source": [
        "#changing weights by adding scalars\n",
        "\n",
        "accuracys=[]\n",
        "x=num_layers-1\n",
        "for i in range(len(original_w)-2,len(original_w)-1-(2*x),-2):\n",
        "  accuracy=[]\n",
        "  print(\"Layer :\",x)\n",
        "  for scalar in [.25, 0.4, 0.6, 0.85, 0.96,1, 1.1,1.25,1.5,1.75,2.]:\n",
        "    new_w=[]\n",
        "    for w in range(len(original_w)):\n",
        "      if(w==i):\n",
        "        new_w.append(original_w[w]+scalar)\n",
        "      else:\n",
        "        new_w.append(original_w[w])\n",
        "    model1.set_weights(new_w)\n",
        "    evaluation = model1.evaluate(x_test, y_test)\n",
        "    print(\"Scalar {} --> test accuracy {}\".format(scalar,evaluation[1]))\n",
        "    accuracy.append(evaluation[1])\n",
        "    model1.set_weights(original_w)\n",
        "  x-=1\n",
        "  model1.set_weights(original_w)\n",
        "  accuracys.append(accuracy)"
      ],
      "metadata": {
        "id": "F3OQpSU25S-Z",
        "colab": {
          "base_uri": "https://localhost:8080/"
        },
        "outputId": "6b0eb678-a79f-41bf-e5bc-c146505a7614"
      },
      "execution_count": 63,
      "outputs": [
        {
          "output_type": "stream",
          "name": "stdout",
          "text": [
            "Layer : 5\n",
            "157/157 [==============================] - 1s 7ms/step - loss: inf - accuracy: 0.6122\n",
            "Scalar 0.25 --> test accuracy 0.6122000217437744\n",
            "157/157 [==============================] - 1s 6ms/step - loss: inf - accuracy: 0.6122\n",
            "Scalar 0.4 --> test accuracy 0.6122000217437744\n",
            "157/157 [==============================] - 1s 7ms/step - loss: inf - accuracy: 0.6122\n",
            "Scalar 0.6 --> test accuracy 0.6122000217437744\n",
            "157/157 [==============================] - 1s 7ms/step - loss: inf - accuracy: 0.6122\n",
            "Scalar 0.85 --> test accuracy 0.6122000217437744\n",
            "157/157 [==============================] - 1s 7ms/step - loss: inf - accuracy: 0.6122\n",
            "Scalar 0.96 --> test accuracy 0.6122000217437744\n",
            "157/157 [==============================] - 1s 7ms/step - loss: inf - accuracy: 0.6122\n",
            "Scalar 1 --> test accuracy 0.6122000217437744\n",
            "157/157 [==============================] - 1s 8ms/step - loss: inf - accuracy: 0.6122\n",
            "Scalar 1.1 --> test accuracy 0.6122000217437744\n",
            "157/157 [==============================] - 1s 7ms/step - loss: inf - accuracy: 0.6122\n",
            "Scalar 1.25 --> test accuracy 0.6122000217437744\n",
            "157/157 [==============================] - 1s 6ms/step - loss: inf - accuracy: 0.6122\n",
            "Scalar 1.5 --> test accuracy 0.6122000217437744\n",
            "157/157 [==============================] - 1s 6ms/step - loss: nan - accuracy: 0.6122\n",
            "Scalar 1.75 --> test accuracy 0.6122000217437744\n",
            "157/157 [==============================] - 1s 6ms/step - loss: nan - accuracy: 0.6120\n",
            "Scalar 2.0 --> test accuracy 0.6119999885559082\n",
            "Layer : 4\n",
            "157/157 [==============================] - 1s 7ms/step - loss: nan - accuracy: 0.0330\n",
            "Scalar 0.25 --> test accuracy 0.032999999821186066\n",
            "157/157 [==============================] - 1s 7ms/step - loss: nan - accuracy: 0.0522\n",
            "Scalar 0.4 --> test accuracy 0.05220000073313713\n",
            "157/157 [==============================] - 1s 6ms/step - loss: nan - accuracy: 0.0732\n",
            "Scalar 0.6 --> test accuracy 0.07320000231266022\n",
            "157/157 [==============================] - 1s 7ms/step - loss: nan - accuracy: 0.0866\n",
            "Scalar 0.85 --> test accuracy 0.08659999817609787\n",
            "157/157 [==============================] - 1s 9ms/step - loss: nan - accuracy: 0.0898\n",
            "Scalar 0.96 --> test accuracy 0.08980000019073486\n",
            "157/157 [==============================] - 1s 7ms/step - loss: nan - accuracy: 0.0906\n",
            "Scalar 1 --> test accuracy 0.09059999883174896\n",
            "157/157 [==============================] - 1s 6ms/step - loss: nan - accuracy: 0.0916\n",
            "Scalar 1.1 --> test accuracy 0.09160000085830688\n",
            "157/157 [==============================] - 1s 7ms/step - loss: nan - accuracy: 0.0938\n",
            "Scalar 1.25 --> test accuracy 0.09380000084638596\n",
            "157/157 [==============================] - 1s 7ms/step - loss: nan - accuracy: 0.0968\n",
            "Scalar 1.5 --> test accuracy 0.09679999947547913\n",
            "157/157 [==============================] - 2s 10ms/step - loss: nan - accuracy: 0.0970\n",
            "Scalar 1.75 --> test accuracy 0.09700000286102295\n",
            "157/157 [==============================] - 1s 7ms/step - loss: nan - accuracy: 0.0976\n",
            "Scalar 2.0 --> test accuracy 0.09759999811649323\n",
            "Layer : 3\n",
            "157/157 [==============================] - 1s 6ms/step - loss: inf - accuracy: 0.1132\n",
            "Scalar 0.25 --> test accuracy 0.11320000141859055\n",
            "157/157 [==============================] - 1s 9ms/step - loss: inf - accuracy: 0.1130\n",
            "Scalar 0.4 --> test accuracy 0.11299999803304672\n",
            "157/157 [==============================] - 1s 7ms/step - loss: inf - accuracy: 0.1080\n",
            "Scalar 0.6 --> test accuracy 0.1080000028014183\n",
            "157/157 [==============================] - 1s 6ms/step - loss: inf - accuracy: 0.1046\n",
            "Scalar 0.85 --> test accuracy 0.10459999740123749\n",
            "157/157 [==============================] - 1s 6ms/step - loss: inf - accuracy: 0.1018\n",
            "Scalar 0.96 --> test accuracy 0.10180000215768814\n",
            "157/157 [==============================] - 1s 7ms/step - loss: inf - accuracy: 0.0994\n",
            "Scalar 1 --> test accuracy 0.09939999878406525\n",
            "157/157 [==============================] - 1s 6ms/step - loss: inf - accuracy: 0.0990\n",
            "Scalar 1.1 --> test accuracy 0.0989999994635582\n",
            "157/157 [==============================] - 1s 6ms/step - loss: inf - accuracy: 0.0992\n",
            "Scalar 1.25 --> test accuracy 0.09920000284910202\n",
            "157/157 [==============================] - 1s 6ms/step - loss: inf - accuracy: 0.0998\n",
            "Scalar 1.5 --> test accuracy 0.0997999981045723\n",
            "157/157 [==============================] - 1s 8ms/step - loss: inf - accuracy: 0.0998\n",
            "Scalar 1.75 --> test accuracy 0.0997999981045723\n",
            "157/157 [==============================] - 1s 7ms/step - loss: nan - accuracy: 0.0994\n",
            "Scalar 2.0 --> test accuracy 0.09939999878406525\n",
            "Layer : 2\n",
            "157/157 [==============================] - 1s 7ms/step - loss: inf - accuracy: 0.1850\n",
            "Scalar 0.25 --> test accuracy 0.1850000023841858\n",
            "157/157 [==============================] - 1s 6ms/step - loss: inf - accuracy: 0.1838\n",
            "Scalar 0.4 --> test accuracy 0.18379999697208405\n",
            "157/157 [==============================] - 1s 6ms/step - loss: inf - accuracy: 0.1796\n",
            "Scalar 0.6 --> test accuracy 0.17960000038146973\n",
            "157/157 [==============================] - 1s 6ms/step - loss: inf - accuracy: 0.1014\n",
            "Scalar 0.85 --> test accuracy 0.10140000283718109\n",
            "157/157 [==============================] - 1s 6ms/step - loss: inf - accuracy: 0.0980\n",
            "Scalar 0.96 --> test accuracy 0.09799999743700027\n",
            "157/157 [==============================] - 1s 7ms/step - loss: inf - accuracy: 0.0980\n",
            "Scalar 1 --> test accuracy 0.09799999743700027\n",
            "157/157 [==============================] - 1s 8ms/step - loss: inf - accuracy: 0.0976\n",
            "Scalar 1.1 --> test accuracy 0.09759999811649323\n",
            "157/157 [==============================] - 1s 7ms/step - loss: inf - accuracy: 0.0974\n",
            "Scalar 1.25 --> test accuracy 0.09740000218153\n",
            "157/157 [==============================] - 1s 6ms/step - loss: inf - accuracy: 0.0976\n",
            "Scalar 1.5 --> test accuracy 0.09759999811649323\n",
            "157/157 [==============================] - 1s 6ms/step - loss: inf - accuracy: 0.0976\n",
            "Scalar 1.75 --> test accuracy 0.09759999811649323\n",
            "157/157 [==============================] - 1s 6ms/step - loss: inf - accuracy: 0.0976\n",
            "Scalar 2.0 --> test accuracy 0.09759999811649323\n",
            "Layer : 1\n",
            "157/157 [==============================] - 1s 6ms/step - loss: nan - accuracy: 0.0870\n",
            "Scalar 0.25 --> test accuracy 0.08699999749660492\n",
            "157/157 [==============================] - 1s 6ms/step - loss: nan - accuracy: 0.0894\n",
            "Scalar 0.4 --> test accuracy 0.08940000087022781\n",
            "157/157 [==============================] - 1s 7ms/step - loss: nan - accuracy: 0.0884\n",
            "Scalar 0.6 --> test accuracy 0.08839999884366989\n",
            "157/157 [==============================] - 1s 8ms/step - loss: nan - accuracy: 0.0940\n",
            "Scalar 0.85 --> test accuracy 0.09399999678134918\n",
            "157/157 [==============================] - 1s 7ms/step - loss: nan - accuracy: 0.0958\n",
            "Scalar 0.96 --> test accuracy 0.0957999974489212\n",
            "157/157 [==============================] - 1s 6ms/step - loss: nan - accuracy: 0.0956\n",
            "Scalar 1 --> test accuracy 0.09560000151395798\n",
            "157/157 [==============================] - 1s 6ms/step - loss: nan - accuracy: 0.0960\n",
            "Scalar 1.1 --> test accuracy 0.09600000083446503\n",
            "157/157 [==============================] - 1s 6ms/step - loss: nan - accuracy: 0.0968\n",
            "Scalar 1.25 --> test accuracy 0.09679999947547913\n",
            "157/157 [==============================] - 1s 6ms/step - loss: nan - accuracy: 0.0970\n",
            "Scalar 1.5 --> test accuracy 0.09700000286102295\n",
            "157/157 [==============================] - 1s 6ms/step - loss: nan - accuracy: 0.0974\n",
            "Scalar 1.75 --> test accuracy 0.09740000218153\n",
            "157/157 [==============================] - 1s 6ms/step - loss: nan - accuracy: 0.0972\n",
            "Scalar 2.0 --> test accuracy 0.09719999879598618\n"
          ]
        }
      ]
    },
    {
      "cell_type": "code",
      "source": [
        "#plotting the accuracies after weight changes\n",
        "\n",
        "scalars=[.25, 0.4, 0.6, 0.85, 0.96, 1, 1.1,1.25,1.5,1.75,2.]\n",
        "for i in range(len(accuracys)):\n",
        "    plt.plot(scalars, accuracys[i], label=f'layer {num_layers-i-1}')\n",
        "plt.xlabel('Scalar')\n",
        "plt.ylabel('Accuracy')\n",
        "plt.title('Effect on accuracy when weights are added with scalers')\n",
        "plt.legend()\n",
        "plt.show()"
      ],
      "metadata": {
        "id": "wDqHv-dq5roO",
        "colab": {
          "base_uri": "https://localhost:8080/",
          "height": 472
        },
        "outputId": "6635bd38-cdea-42fa-d453-ca259b82c9d2"
      },
      "execution_count": 64,
      "outputs": [
        {
          "output_type": "display_data",
          "data": {
            "text/plain": [
              "<Figure size 640x480 with 1 Axes>"
            ],
            "image/png": "[encoded data removed]"
          },
          "metadata": {}
        }
      ]
    },
    {
      "cell_type": "code",
      "source": [
        "average=[]\n",
        "for i in accuracys:\n",
        "  average.append(sum(i)/len(i))\n",
        "print(average)"
      ],
      "metadata": {
        "id": "nTHPBrO2bSk6",
        "colab": {
          "base_uri": "https://localhost:8080/"
        },
        "outputId": "149c78d0-eb3a-4b41-9554-0834fb9be668"
      },
      "execution_count": 65,
      "outputs": [
        {
          "output_type": "stream",
          "name": "stdout",
          "text": [
            "[0.6121818369085138, 0.08201818202029575, 0.10338181799108331, 0.12123636291785674, 0.0940545451912013]\n"
          ]
        }
      ]
    },
    {
      "cell_type": "code",
      "source": [],
      "metadata": {
        "id": "Rv-NHlJunfeZ"
      },
      "execution_count": 65,
      "outputs": []
    }
  ]
}